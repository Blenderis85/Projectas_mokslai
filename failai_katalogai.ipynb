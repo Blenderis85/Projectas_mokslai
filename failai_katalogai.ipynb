{
 "cells": [
  {
   "cell_type": "code",
   "execution_count": null,
   "metadata": {},
   "outputs": [],
   "source": [
    "import os\n",
    "\n",
    "# Patikrinti dabartinį katalogą\n",
    "print(\"Dabartinis darbo katalogas:\", os.getcwd())\n",
    "\n",
    "# Patikrinti, ar katalogas egzistuoja\n",
    "if not os.path.exists('/naujas_katalogas'):\n",
    "    # Jei katalogo nėra, jį sukurti\n",
    "    os.mkdir('/Users/agedv/Documents/CodeAcademy/Projectas_mokslai/naujas_katalogas')\n",
    "    print(\"Sukurtas naujas katalogas '/naujas_katalogas'\")\n",
    "\n",
    "# Pakeisti darbo katalogą į naują katalogą\n",
    "try:\n",
    "    os.chdir('/Users/agedv/Documents/CodeAcademy/Projectas_mokslai/naujas_katalogas')\n",
    "    print(\"Pakeistas darbo katalogas į:\", os.getcwd())\n",
    "except FileNotFoundError:\n",
    "    print(\"Nepavyko rasti katalogo '/naujas_katalogas'\")"
   ]
  },
  {
   "cell_type": "code",
   "execution_count": null,
   "metadata": {},
   "outputs": [],
   "source": [
    "with open(\"pavyzdys.txt\", \"a\") as failas:\n",
    "    failas.write(\"Papildoma eilute.\\n\")\n",
    "    \n",
    "with open(\"pavyzdys.txt\", \"r\") as failas:\n",
    "    viskas = failas.read()\n",
    "    print(viskas)"
   ]
  },
  {
   "cell_type": "code",
   "execution_count": null,
   "metadata": {},
   "outputs": [],
   "source": [
    "import os\n",
    "\n",
    "failo_kelias = 'pavyzdys.txt'\n",
    "if os.path.exists(failo_kelias):\n",
    "    print(f\"Failas '{failo_kelias}' egzistuoja.\")\n",
    "else:\n",
    "    print(f\"Failas '{failo_kelias}' neegzistuoja.\")"
   ]
  },
  {
   "cell_type": "code",
   "execution_count": null,
   "metadata": {},
   "outputs": [],
   "source": [
    "import os\n",
    "\n",
    "failo_kelias = 'pavyzdys.txt'\n",
    "\n",
    "if os.path.exists(failo_kelias):\n",
    "    os.remove(failo_kelias)\n",
    "    print(f\"Failas '{failo_kelias}' ištrintas.\")\n",
    "else:\n",
    "    print(f\"Failas '{failo_kelias}' neegzistuoja.\")"
   ]
  },
  {
   "cell_type": "code",
   "execution_count": null,
   "metadata": {},
   "outputs": [],
   "source": [
    "import os\n",
    "\n",
    "# Gauti dabartinio darbo katalogo kelią\n",
    "print(\"Dabartinis darbo katalogas:\", os.getcwd())"
   ]
  },
  {
   "cell_type": "code",
   "execution_count": null,
   "metadata": {},
   "outputs": [],
   "source": [
    "import os\n",
    "\n",
    "# Pakeisti darbo katalogą į kitą katalogą\n",
    "os.chdir('/Users/agedv/Documents/CodeAcademy/Projectas_mokslai')\n",
    "print(\"Dabartinis darbo katalogas:\", os.getcwd())"
   ]
  },
  {
   "cell_type": "code",
   "execution_count": null,
   "metadata": {},
   "outputs": [],
   "source": [
    "import os\n",
    "\n",
    "katalogo_kelias = '/Users/agedv/Documents/CodeAcademy/Projectas_mokslai/naujas_katalogas'\n",
    "\n",
    "if os.path.exists(katalogo_kelias):\n",
    "    if not os.listdir(katalogo_kelias):\n",
    "        os.rmdir(katalogo_kelias)\n",
    "        print(f\"Katalogas '{katalogo_kelias}' ištrintas.\")\n",
    "    else:\n",
    "        print(f\"Katalogas '{katalogo_kelias}' nėra tuščias.\")\n",
    "else:\n",
    "    print(f\"Katalogas '{katalogo_kelias}' neegzistuoja.\")"
   ]
  }
 ],
 "metadata": {
  "kernelspec": {
   "display_name": "venv",
   "language": "python",
   "name": "python3"
  },
  "language_info": {
   "codemirror_mode": {
    "name": "ipython",
    "version": 3
   },
   "file_extension": ".py",
   "mimetype": "text/x-python",
   "name": "python",
   "nbconvert_exporter": "python",
   "pygments_lexer": "ipython3",
   "version": "3.11.3"
  },
  "orig_nbformat": 4
 },
 "nbformat": 4,
 "nbformat_minor": 2
}
