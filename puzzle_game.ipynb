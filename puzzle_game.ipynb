{
 "cells": [
  {
   "cell_type": "code",
   "execution_count": 40,
   "metadata": {},
   "outputs": [
    {
     "name": "stdout",
     "output_type": "stream",
     "text": [
      "The jumble word is rmginapmrgo\n",
      "Incorrect! The word is programming.\n"
     ]
    }
   ],
   "source": [
    "import random\n",
    "\n",
    "words = ['father', 'enterprise', 'science', 'programming', 'resistance', 'fiction', 'condition', 'reverse', 'computer', 'python']\n",
    "word = random.choice(words)\n",
    "\n",
    "jumble = ''.join(random.sample(word, len(word)))\n",
    "print(f\"The jumble word is {jumble}\")\n",
    "\n",
    "guess = input(\"Write your guess: \")\n",
    "\n",
    "if guess == word:\n",
    "    print(\"Correct!\")\n",
    "else:\n",
    "    print(f\"Incorrect! The word is {word}.\")\n"
   ]
  }
 ],
 "metadata": {
  "kernelspec": {
   "display_name": "venv",
   "language": "python",
   "name": "python3"
  },
  "language_info": {
   "codemirror_mode": {
    "name": "ipython",
    "version": 3
   },
   "file_extension": ".py",
   "mimetype": "text/x-python",
   "name": "python",
   "nbconvert_exporter": "python",
   "pygments_lexer": "ipython3",
   "version": "3.11.3"
  },
  "orig_nbformat": 4
 },
 "nbformat": 4,
 "nbformat_minor": 2
}
