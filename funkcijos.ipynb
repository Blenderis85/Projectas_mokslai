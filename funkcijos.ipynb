{
 "cells": [
  {
   "cell_type": "code",
   "execution_count": 8,
   "metadata": {},
   "outputs": [
    {
     "name": "stdout",
     "output_type": "stream",
     "text": [
      "Vardas: Jonas\n",
      "Amžius: 25\n"
     ]
    }
   ],
   "source": [
    "## Funkcijos aprašymo struktūra\n",
    "## Funkcijos pavadinimas yra pavadinimas,\n",
    "## kuriuo vėliau galima naudoti funkciją iš kitų programos dalių. \n",
    "## Argumentai yra reikšmės, kuriuos funkcija priima kaip įvestį, \n",
    "## ir jie yra nurodyti tarp skliaustelių po funkcijos pavadinimu. \n",
    "## Funkcija gali turėti bet kiek argumentų arba jų neturėti.\n",
    "## Pavyzdys, kaip apibrėžti funkciją, kuri priima du argumentus ir išspausdina juos į konsolę:\n",
    "\n",
    "def spausdinti_duomenis(vardas, amzius):\n",
    "    print(\"Vardas:\", vardas)\n",
    "    print(\"Amžius:\", amzius)\n",
    "spausdinti_duomenis(\"Jonas\", 25)\n",
    "\n"
   ]
  },
  {
   "cell_type": "code",
   "execution_count": 10,
   "metadata": {},
   "outputs": [
    {
     "name": "stdout",
     "output_type": "stream",
     "text": [
      "Įvestas skaičius yra lyginis.\n"
     ]
    }
   ],
   "source": [
    "## UZDUOTIS:\n",
    "\n",
    "## Pirma uzduotis:\n",
    "\n",
    "def lyginis_nelyginis(skaicius):\n",
    "    if skaicius % 2 == 0:\n",
    "        print(\"Įvestas skaičius yra lyginis.\")\n",
    "    else:\n",
    "        print(\"Įvestas skaičius yra nelyginis.\")\n",
    "\n",
    "lyginis_nelyginis(10)"
   ]
  },
  {
   "cell_type": "code",
   "execution_count": 12,
   "metadata": {},
   "outputs": [
    {
     "name": "stdout",
     "output_type": "stream",
     "text": [
      "Įvestas skaičius yra teigiamas.\n"
     ]
    }
   ],
   "source": [
    "## Antra uzduotis:\n",
    "\n",
    "def ar_teigiamas(skaicius):\n",
    "    if skaicius > 0:\n",
    "        print(\"Įvestas skaičius yra teigiamas.\")\n",
    "    else:\n",
    "        print(\"Įvestas skaičius nėra teigiamas.\")\n",
    "\n",
    "ar_teigiamas(5)"
   ]
  },
  {
   "cell_type": "code",
   "execution_count": 14,
   "metadata": {},
   "outputs": [
    {
     "name": "stdout",
     "output_type": "stream",
     "text": [
      "Įvestas skaičius nėra didesnis nei 8.\n"
     ]
    }
   ],
   "source": [
    "## Trecia uzduotis:\n",
    "\n",
    "def ar_daugiau_nei(skaicius, riba):\n",
    "    if skaicius > riba:\n",
    "        print(f\"Įvestas skaičius yra didesnis nei {riba}.\")\n",
    "    else:\n",
    "        print(f\"Įvestas skaičius nėra didesnis nei {riba}.\")\n",
    "\n",
    "ar_daugiau_nei(6, 8)"
   ]
  },
  {
   "cell_type": "code",
   "execution_count": 15,
   "metadata": {},
   "outputs": [
    {
     "name": "stdout",
     "output_type": "stream",
     "text": [
      "Įvestas skaičius yra sveikasis.\n",
      "Įvestas skaičius yra trupmeninis.\n",
      "Įvestas argumentas nėra skaičius.\n"
     ]
    }
   ],
   "source": [
    "## if, elif, else funkcijoje\n",
    "## Šioje funkcijoje if sakinys patikrina, \n",
    "## ar perduotas argumentas yra sveikasis skaičius, \n",
    "## o elif sakinys patikrina, ar jis yra trupmeninis skaičius. \n",
    "## Jei nei vienas iš šių sąlygų nėra tenkinamas, \n",
    "## vykdomas else sakinys, kuris išveda klaidos pranešimą.\n",
    "\n",
    "def skaiciaus_tipas(skaicius):\n",
    "    if type(skaicius) == int:\n",
    "        print(\"Įvestas skaičius yra sveikasis.\")\n",
    "    elif type(skaicius) == float:\n",
    "        print(\"Įvestas skaičius yra trupmeninis.\")\n",
    "    else:\n",
    "        print(\"Įvestas argumentas nėra skaičius.\")\n",
    "\n",
    "skaiciaus_tipas(10)\n",
    "skaiciaus_tipas(3.14)\n",
    "skaiciaus_tipas(\"a\")"
   ]
  },
  {
   "cell_type": "code",
   "execution_count": 16,
   "metadata": {},
   "outputs": [
    {
     "name": "stdout",
     "output_type": "stream",
     "text": [
      "25\n"
     ]
    }
   ],
   "source": [
    "## Funkcija su grąžinama reikšme return\n",
    "## Funkcija su grąžinama reikšme (return) yra funkcija, \n",
    "## kuri apdoroja tam tikrą įvestį ir grąžina rezultatą. \n",
    "## Grąžinama reikšmė gali būti bet kokio tipo - skaičius, eilutė, sąrašas \n",
    "## ar netgi kitas objektas. Grąžinti reikšmę iš funkcijos yra būtina, \n",
    "## jei norite naudoti funkcijos apdorotus duomenis kitur programos eigoje.\n",
    "## Funkcija su grąžinama reikšme apibrėžiama return sakiniu. \n",
    "## Grąžinama reikšmė nurodoma iš kart po return, \n",
    "## o jei funkcija turi daugiau nei vieną grąžinamą reikšmę, \n",
    "## jos gali būti grąžinamos per tuple arba sąrašą.\n",
    "\n",
    "def kvadratu(x):\n",
    "    return x**2\n",
    "\n",
    "rezultatas = kvadratu(5)\n",
    "print(rezultatas)  # išvestų: 25"
   ]
  },
  {
   "cell_type": "code",
   "execution_count": null,
   "metadata": {},
   "outputs": [],
   "source": [
    "def suma(x, y):\n",
    "    rezultatas = x + y\n",
    "    return rezultatas\n",
    "\n",
    "atsakymas = suma(10, 2)\n",
    "print(atsakymas)  # išvestų: 12\n",
    "\n",
    "## Ši funkcija suma priima du argumentus: x ir y, \n",
    "## tuomet juos sudeda ir grąžina sumą naudodama return sakinį."
   ]
  },
  {
   "cell_type": "code",
   "execution_count": 18,
   "metadata": {},
   "outputs": [
    {
     "name": "stdout",
     "output_type": "stream",
     "text": [
      "(5, 6)\n",
      "5\n",
      "6\n",
      "[[2, 5], [-4, -1, -2]]\n"
     ]
    }
   ],
   "source": [
    "## Daugiau negu vieno kintamojo grąžinimas per tuple arba sąrašą (list)\n",
    "## Norint grąžinti du kintamuosius, galima jų reikšmes sudėti į tuple \n",
    "## ir grąžinti jį iš funkcijos, pavyzdžiui:\n",
    "\n",
    "def skaiciu_suma_ir_sandauga(a, b):\n",
    "    suma = a + b\n",
    "    sandauga = a * b\n",
    "    return (suma, sandauga)\n",
    "\n",
    "rezultatas = skaiciu_suma_ir_sandauga(2, 3)\n",
    "print(rezultatas)  # išvestų (5, 6)\n",
    "\n",
    "## Šiuo atveju skaiciu_suma_ir_sandauga funkcija grąžina du kintamuosius \n",
    "##- suma ir sandauga, sudėtas į tuple. Tuomet rezultatas kintamasis \n",
    "## priskiriamas tuple reikšmei, grąžintai iš funkcijos, ir išvedamas į ekraną.\n",
    "\n",
    "suma, sandauga = skaiciu_suma_ir_sandauga(2, 3)\n",
    "print(suma)     # 5\n",
    "print(sandauga) # 6\n",
    "\n",
    "## Taip pat galima grąžinti sąrašą:\n",
    "\n",
    "def teigiami_ir_neigiami_skaiciai(skaiciai):\n",
    "    teigiami = []\n",
    "    neigiami = []\n",
    "    for skaicius in skaiciai:\n",
    "        if skaicius > 0:\n",
    "            teigiami.append(skaicius)\n",
    "        else:\n",
    "            neigiami.append(skaicius)\n",
    "    return [teigiami, neigiami]\n",
    "\n",
    "skaiciai = [2, -4, 5, -1, -2]\n",
    "rezultatas = teigiami_ir_neigiami_skaiciai(skaiciai)\n",
    "print(rezultatas)  # išvestų [[2, 5], [-4, -1, -2]]\n",
    "\n",
    "## Šiuo atveju teigiami_ir_neigiami_skaiciai funkcija grąžina du sąrašus \n",
    "## - teigiami ir neigiami, kuriuos sudaro atitinkamai teigiami \n",
    "## ir neigiami skaičiai iš pradinio sąrašo. \n",
    "## Tuomet rezultatas kintamasis priskiriamas sąrašo reikšmei, grąžintai iš funkcijos, \n",
    "## ir išvedamas į ekraną.\n",
    "## ❗ Svarbu atkreipti dėmesį, kad grąžinamas objektas turi būti išsaugotas kaip tuple arba sąrašas, \n",
    "## kad galėtų būti naudojamas kaip toks, t.y. galima išgauti reikšmes su indeksavimu \n",
    "## ar kitiems objektų manipuliacijoms, o ne kaip keli atskiri kintamieji. \n",
    "## Taip pat galima naudoti ir žodyną dict."
   ]
  },
  {
   "cell_type": "code",
   "execution_count": 21,
   "metadata": {},
   "outputs": [
    {
     "data": {
      "text/plain": [
       "[5, 4, 3, 2, 1]"
      ]
     },
     "execution_count": 21,
     "metadata": {},
     "output_type": "execute_result"
    }
   ],
   "source": [
    "## UZDUOTYS:\n",
    "## Pirma:\n",
    "\n",
    "def sarasas_atvirksciai(sarasas):\n",
    "    return sarasas[::-1]\n",
    "\n",
    "sarasas = [1, 2, 3, 4, 5]\n",
    "sarasas_atvirksciai(sarasas)\n",
    "[5, 4, 3, 2, 1]"
   ]
  },
  {
   "cell_type": "code",
   "execution_count": 23,
   "metadata": {},
   "outputs": [
    {
     "name": "stdout",
     "output_type": "stream",
     "text": [
      "6.0\n"
     ]
    }
   ],
   "source": [
    "## Antra:\n",
    "# s = (a + b + c) / 2, kur a, b ir c yra trikampio kraštinių ilgiai\n",
    "# plotas = √(s * (s - a) * (s - b) * (s - c))\n",
    "\n",
    "def trikampio_plotas(a, b, c):\n",
    "    s = (a + b + c) / 2  # pusė perimetro\n",
    "    plotas = (s * (s - a) * (s - b) * (s - c)) ** 0.5\n",
    "    return plotas\n",
    "\n",
    "a = 3\n",
    "b = 4\n",
    "c = 5\n",
    "trikampio_plotas = trikampio_plotas(a, b, c)\n",
    "print(trikampio_plotas)  # išvestų: 6.0"
   ]
  },
  {
   "cell_type": "code",
   "execution_count": 25,
   "metadata": {},
   "outputs": [
    {
     "name": "stdout",
     "output_type": "stream",
     "text": [
      "['sekasi?']\n"
     ]
    }
   ],
   "source": [
    "# Trecia:\n",
    "\n",
    "def rinkti_zodzius_pagal_ilgi(sakinys, ilgis):\n",
    "    zodziai = sakinys.split()\n",
    "    ilgio_zodziai = []\n",
    "    for zodis in zodziai:\n",
    "        if len(zodis) == ilgis:\n",
    "           ilgio_zodziai.append(zodis)\n",
    "    return ilgio_zodziai\n",
    "\n",
    "sakinys = \"Labas vakaras, kaip sekasi?\"\n",
    "ilgis = 7\n",
    "zodziai = rinkti_zodzius_pagal_ilgi(sakinys, ilgis)\n",
    "print(zodziai)  # išvestų: ['vakaras', 'sekasi?']"
   ]
  },
  {
   "cell_type": "code",
   "execution_count": 26,
   "metadata": {},
   "outputs": [
    {
     "name": "stdout",
     "output_type": "stream",
     "text": [
      "9\n"
     ]
    }
   ],
   "source": [
    "# Ketvirta:\n",
    "\n",
    "def didziausias_skaicius(skaiciai):\n",
    "    didziausias = skaiciai[0]\n",
    "    for skaicius in skaiciai:\n",
    "        if skaicius > didziausias:\n",
    "            didziausias = skaicius\n",
    "    return didziausias\n",
    "\n",
    "skaiciai = [4, 2, 7, 1, 9, 5]\n",
    "didziausias = didziausias_skaicius(skaiciai)\n",
    "print(didziausias)  # išvestų: 9"
   ]
  },
  {
   "cell_type": "code",
   "execution_count": 27,
   "metadata": {},
   "outputs": [
    {
     "name": "stdout",
     "output_type": "stream",
     "text": [
      "['automobilis', 'arklys', 'avokadas']\n"
     ]
    }
   ],
   "source": [
    "# Penktas:\n",
    "\n",
    "def rinkti_zodzius_pagal_raide(zodziai, raide):\n",
    "    raides_zodziai = []\n",
    "    for zodis in zodziai:\n",
    "        if zodis[0] == raide:\n",
    "            raides_zodziai.append(zodis)\n",
    "    return raides_zodziai\n",
    "\n",
    "zodziai = [\"automobilis\", \"arklys\", \"avokadas\", \"bananas\", \"briedis\"]\n",
    "raide = \"a\"\n",
    "a_zodziai = rinkti_zodzius_pagal_raide(zodziai, raide)\n",
    "print(a_zodziai)  # išvestų: ['automobilis', 'avokadas']"
   ]
  },
  {
   "cell_type": "code",
   "execution_count": 28,
   "metadata": {},
   "outputs": [
    {
     "name": "stdout",
     "output_type": "stream",
     "text": [
      "['kaip']\n"
     ]
    }
   ],
   "source": [
    "# Sesta:\n",
    "\n",
    "def rinkti_lyginio_ilgio_zodzius(tekstas):\n",
    "    zodziai = tekstas.split()\n",
    "    lyginio_ilgio_zodziai = []\n",
    "    for zodis in zodziai:\n",
    "        if len(zodis) % 2 == 0:\n",
    "            lyginio_ilgio_zodziai.append(zodis)\n",
    "    return lyginio_ilgio_zodziai\n",
    "\n",
    "tekstas = \"Labas Vakare, kaip sekasi?\"\n",
    "lyginio_ilgio_zodziai = rinkti_lyginio_ilgio_zodzius(tekstas)\n",
    "print(lyginio_ilgio_zodziai)  # išvestų: ['Vakare,', 'kaip']"
   ]
  },
  {
   "cell_type": "code",
   "execution_count": 29,
   "metadata": {},
   "outputs": [
    {
     "name": "stdout",
     "output_type": "stream",
     "text": [
      "Labas, Jonas\n",
      "Sveiki, Ona\n"
     ]
    }
   ],
   "source": [
    "## Nebūtini argumentai su numatytomis reikšmėmis\n",
    "## Nebūtini argumentai su numatytomis reikšmėmis \n",
    "## leidžia nurodyti numatytas reikšmes funkcijos argumentams, \n",
    "## kurie gali būti praleisti kviečiant funkciją. \n",
    "## Tai leidžia pasiekti lankstumą funkcijų kūrimo metu.\n",
    "\n",
    "def pasveikinti(vardas, pasisveikinimas=\"Sveiki\"):\n",
    "    print(pasisveikinimas + \", \" + vardas)\n",
    "\n",
    "# Kvietimas su abiem argumentais\n",
    "pasveikinti(\"Jonas\", \"Labas\") # Išvestis: Labas, Jonas\n",
    "\n",
    "# Kvietimas tik su privalomuoju argumentu\n",
    "pasveikinti(\"Ona\") # Išvestis: Sveiki, Ona"
   ]
  },
  {
   "cell_type": "code",
   "execution_count": null,
   "metadata": {},
   "outputs": [],
   "source": [
    "def skaiciuoti_kaina(prekes_pavadinimas, kaina, nuolaida=0, pvm=21):\n",
    "    kaina_su_nuolaida = kaina * (1 - nuolaida / 100)\n",
    "    kaina_su_pvm = kaina_su_nuolaida * (1 + pvm / 100)\n",
    "    print(f\"{prekes_pavadinimas} - kaina su nuolaida ir PVM: {kaina_su_pvm:.2f}€\")\n",
    "\n",
    "# Kvietimas su visais argumentais\n",
    "skaiciuoti_kaina(\"Obuolys\", 1.00, 10, 5) \n",
    "# Išvestis: Obuolys - kaina su nuolaida ir PVM: 0.95€\n",
    "\n",
    "# Kvietimas su privalomaisiais argumentais ir PVM nustatytu iš anksto\n",
    "skaiciuoti_kaina(\"Avokadas\", 1.20, pvm=10) \n",
    "# Išvestis: Avokadas - kaina su nuolaida ir PVM: 1.32€\n",
    "\n",
    "# Kvietimas su privalomaisiais argumentais ir be nuolaidos ar PVM\n",
    "skaiciuoti_kaina(\"Pienas\", 2) \n",
    "# Išvestis: pienas - kaina su nuolaida ir PVM: 2.42€\n",
    "\n",
    "## Funkcija apskaičiuoja kainą su nuolaida ir PVM, naudodama kaina, \n",
    "## nuolaida ir pvm argumentus. Kadangi nuolaida ir pvm yra pasirinktiniai argumentai, \n",
    "## tai jei jie nėra nurodyti kviečiant funkciją, jų reikšmės \n",
    "##bus lygios numatytosioms: 0 ir 21 atitinkamai."
   ]
  },
  {
   "cell_type": "code",
   "execution_count": null,
   "metadata": {},
   "outputs": [],
   "source": [
    "def skaiciuoti(veiksmas, a, b):\n",
    "    if veiksmas == \"sudeti\":\n",
    "        return a + b\n",
    "    elif veiksmas == \"atimti\":\n",
    "        return a - b\n",
    "    elif veiksmas == \"dauginti\":\n",
    "        return a * b\n",
    "    elif veiksmas == \"dalinti\":\n",
    "        return a / b\n",
    "\n",
    "# Kviečiant funkciją skaiciuoti, konkrečiai nurodomi argumentai\n",
    "rezultatas = skaiciuoti(veiksmas=\"sudeti\", a=2, b=3)\n",
    "print(rezultatas) # Išvestis: 5\n",
    "\n",
    "## Ši funkcija turi tris privalomus argumentus: veiksmas, a ir b. \n",
    "## Kviesdami funkciją, galite nurodyti konkretų argumento pavadinimą, \n",
    "## prieš tai parašę == ir priskirdami reikšmę, kurią norite perduoti funkcijai. \n",
    "## Tai padeda užtikrinti, kad kiekvienas argumentas būtų perduotas tinkamai ir nekiltų klaidų."
   ]
  },
  {
   "cell_type": "code",
   "execution_count": 34,
   "metadata": {},
   "outputs": [
    {
     "name": "stdout",
     "output_type": "stream",
     "text": [
      "6.0\n"
     ]
    }
   ],
   "source": [
    "## UZDUOTYS:\n",
    "## Pirma:\n",
    "\n",
    "def apskritimo_plotas(spindulys, pi=3.14):\n",
    "    plotas = pi * (spindulys ** 2)\n",
    "    return plotas"
   ]
  },
  {
   "cell_type": "code",
   "execution_count": 36,
   "metadata": {},
   "outputs": [],
   "source": [
    "## Antra:\n",
    "\n",
    "def keliones_informacija(keliones_trukme, greitis, vartojimas=7, kuro_kaina=1.2):\n",
    "    atstumas = keliones_trukme * greitis\n",
    "    sąnaudos = atstumas * vartojimas / 100\n",
    "    išlaidos = sąnaudos * kuro_kaina\n",
    "    \n",
    "    return {'atstumas': atstumas,'sąnaudos': sąnaudos,'išlaidos': išlaidos}"
   ]
  },
  {
   "cell_type": "code",
   "execution_count": 37,
   "metadata": {},
   "outputs": [
    {
     "name": "stdout",
     "output_type": "stream",
     "text": [
      "1\n",
      "2\n",
      "3\n",
      "Labas\n",
      "Pasauli\n"
     ]
    }
   ],
   "source": [
    "## Neriboti argumentai *args, **kwargs\n",
    "## *args yra specialus Python sintaksės elementas, \n",
    "## kuris leidžia perduoti bet kokį kiekį pozicinių argumentų į funkciją. \n",
    "## *args sukuria tuple iš visų perduotų pozicinių argumentų, \n",
    "## kurie gali būti naudojami kaip bet kuris kitas tuple.\n",
    "\n",
    "def spausdinti_args(*args):\n",
    "    for arg in args:\n",
    "        print(arg)\n",
    "\n",
    "spausdinti_args(1, 2, 3, \"Labas\", \"Pasauli\")"
   ]
  },
  {
   "cell_type": "code",
   "execution_count": 38,
   "metadata": {},
   "outputs": [
    {
     "name": "stdout",
     "output_type": "stream",
     "text": [
      "6\n",
      "22\n"
     ]
    }
   ],
   "source": [
    "## Sumavimo funkcijos pavyzdys su *args:\n",
    "\n",
    "def suma(*args):\n",
    "    sum = 0\n",
    "    for i in args:\n",
    "        sum += i\n",
    "    return sum\n",
    "\n",
    "print(suma(1, 2, 3))  # 6\n",
    "print(suma(4, 5, 6, 7))  # 22"
   ]
  },
  {
   "cell_type": "code",
   "execution_count": null,
   "metadata": {},
   "outputs": [],
   "source": [
    "## Funkcija, kuri sujungia ir atspausdina visus *args elementus, pavyzdys:\n",
    "\n",
    "def sujungti(*args):\n",
    "    sujungtas = \"\"\n",
    "    for arg in args:\n",
    "        sujungtas += str(arg)\n",
    "    print(sujungtas)\n",
    "\n",
    "sujungti(\"Labas\", \" \", \"Pasauli\")  # Labas Pasauli\n",
    "sujungti(1, 2, 3, 4)  # 1234"
   ]
  },
  {
   "cell_type": "code",
   "execution_count": 39,
   "metadata": {},
   "outputs": [
    {
     "name": "stdout",
     "output_type": "stream",
     "text": [
      "5\n",
      "10\n"
     ]
    }
   ],
   "source": [
    "## UZDUOTYS:\n",
    "## Pirma:\n",
    "\n",
    "def didziausias(*args):\n",
    "    if len(args) == 0:\n",
    "        return None\n",
    "    didziausia_reiksme = args[0]\n",
    "    for arg in args:\n",
    "        if arg > didziausia_reiksme:\n",
    "            didziausia_reiksme = arg\n",
    "    return didziausia_reiksme\n",
    "\n",
    "print(didziausias(1, 2, 3, 4, 5))  # 5\n",
    "print(didziausias(-5, 10, 3, -2))  # 10"
   ]
  },
  {
   "cell_type": "code",
   "execution_count": 40,
   "metadata": {},
   "outputs": [
    {
     "name": "stdout",
     "output_type": "stream",
     "text": [
      "{'vardas': 'Jonas', 'amzius': 30, 'miestas': 'Vilnius', 'metai': 2023}\n",
      "{}\n"
     ]
    }
   ],
   "source": [
    "## Antra:\n",
    "\n",
    "def raktai(**kwargs):\n",
    "    nurodyti_raktai = {}\n",
    "    for key in kwargs:\n",
    "        if key in [\"vardas\", \"amzius\", \"miestas\", \"metai\"]:\n",
    "            nurodyti_raktai[key] = kwargs[key]\n",
    "    return nurodyti_raktai\n",
    "\n",
    "print(raktai(vardas=\"Jonas\", amzius=30, miestas=\"Vilnius\", metai=2023))  # {'vardas': 'Jonas', 'amzius': 30, 'miestas': 'Vilnius'}\n",
    "print(raktai(pavadinimas=\"Python\"))  # {}"
   ]
  },
  {
   "cell_type": "code",
   "execution_count": null,
   "metadata": {},
   "outputs": [],
   "source": [
    "## Trecia:\n",
    "\n",
    "def sujungtas_sarasas(*args, **kwargs):\n",
    "    visi_elementai = list(args)\n",
    "    visi_elementai += list(kwargs.values())\n",
    "    return visi_elementai\n"
   ]
  }
 ],
 "metadata": {
  "kernelspec": {
   "display_name": "venv",
   "language": "python",
   "name": "python3"
  },
  "language_info": {
   "codemirror_mode": {
    "name": "ipython",
    "version": 3
   },
   "file_extension": ".py",
   "mimetype": "text/x-python",
   "name": "python",
   "nbconvert_exporter": "python",
   "pygments_lexer": "ipython3",
   "version": "3.11.3"
  },
  "orig_nbformat": 4
 },
 "nbformat": 4,
 "nbformat_minor": 2
}
