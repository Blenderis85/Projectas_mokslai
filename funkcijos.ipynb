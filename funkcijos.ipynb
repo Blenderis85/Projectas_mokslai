{
 "cells": [
  {
   "cell_type": "code",
   "execution_count": 8,
   "metadata": {},
   "outputs": [
    {
     "name": "stdout",
     "output_type": "stream",
     "text": [
      "Vardas: Jonas\n",
      "Amžius: 25\n"
     ]
    }
   ],
   "source": [
    "## Funkcijos aprašymo struktūra\n",
    "## Funkcijos pavadinimas yra pavadinimas,\n",
    "## kuriuo vėliau galima naudoti funkciją iš kitų programos dalių. \n",
    "## Argumentai yra reikšmės, kuriuos funkcija priima kaip įvestį, \n",
    "## ir jie yra nurodyti tarp skliaustelių po funkcijos pavadinimu. \n",
    "## Funkcija gali turėti bet kiek argumentų arba jų neturėti.\n",
    "## Pavyzdys, kaip apibrėžti funkciją, kuri priima du argumentus ir išspausdina juos į konsolę:\n",
    "\n",
    "def spausdinti_duomenis(vardas, amzius):\n",
    "    print(\"Vardas:\", vardas)\n",
    "    print(\"Amžius:\", amzius)\n",
    "spausdinti_duomenis(\"Jonas\", 25)\n",
    "\n"
   ]
  },
  {
   "cell_type": "code",
   "execution_count": 10,
   "metadata": {},
   "outputs": [
    {
     "name": "stdout",
     "output_type": "stream",
     "text": [
      "Įvestas skaičius yra lyginis.\n"
     ]
    }
   ],
   "source": [
    "## UZDUOTIS:\n",
    "\n",
    "## Pirma uzduotis:\n",
    "\n",
    "def lyginis_nelyginis(skaicius):\n",
    "    if skaicius % 2 == 0:\n",
    "        print(\"Įvestas skaičius yra lyginis.\")\n",
    "    else:\n",
    "        print(\"Įvestas skaičius yra nelyginis.\")\n",
    "\n",
    "lyginis_nelyginis(10)"
   ]
  },
  {
   "cell_type": "code",
   "execution_count": 12,
   "metadata": {},
   "outputs": [
    {
     "name": "stdout",
     "output_type": "stream",
     "text": [
      "Įvestas skaičius yra teigiamas.\n"
     ]
    }
   ],
   "source": [
    "## Antra uzduotis:\n",
    "\n",
    "def ar_teigiamas(skaicius):\n",
    "    if skaicius > 0:\n",
    "        print(\"Įvestas skaičius yra teigiamas.\")\n",
    "    else:\n",
    "        print(\"Įvestas skaičius nėra teigiamas.\")\n",
    "\n",
    "ar_teigiamas(5)"
   ]
  },
  {
   "cell_type": "code",
   "execution_count": 14,
   "metadata": {},
   "outputs": [
    {
     "name": "stdout",
     "output_type": "stream",
     "text": [
      "Įvestas skaičius nėra didesnis nei 8.\n"
     ]
    }
   ],
   "source": [
    "## Trecia uzduotis:\n",
    "\n",
    "def ar_daugiau_nei(skaicius, riba):\n",
    "    if skaicius > riba:\n",
    "        print(f\"Įvestas skaičius yra didesnis nei {riba}.\")\n",
    "    else:\n",
    "        print(f\"Įvestas skaičius nėra didesnis nei {riba}.\")\n",
    "\n",
    "ar_daugiau_nei(6, 8)"
   ]
  },
  {
   "cell_type": "code",
   "execution_count": 15,
   "metadata": {},
   "outputs": [
    {
     "name": "stdout",
     "output_type": "stream",
     "text": [
      "Įvestas skaičius yra sveikasis.\n",
      "Įvestas skaičius yra trupmeninis.\n",
      "Įvestas argumentas nėra skaičius.\n"
     ]
    }
   ],
   "source": [
    "## if, elif, else funkcijoje\n",
    "## Šioje funkcijoje if sakinys patikrina, \n",
    "## ar perduotas argumentas yra sveikasis skaičius, \n",
    "## o elif sakinys patikrina, ar jis yra trupmeninis skaičius. \n",
    "## Jei nei vienas iš šių sąlygų nėra tenkinamas, \n",
    "## vykdomas else sakinys, kuris išveda klaidos pranešimą.\n",
    "\n",
    "def skaiciaus_tipas(skaicius):\n",
    "    if type(skaicius) == int:\n",
    "        print(\"Įvestas skaičius yra sveikasis.\")\n",
    "    elif type(skaicius) == float:\n",
    "        print(\"Įvestas skaičius yra trupmeninis.\")\n",
    "    else:\n",
    "        print(\"Įvestas argumentas nėra skaičius.\")\n",
    "\n",
    "skaiciaus_tipas(10)\n",
    "skaiciaus_tipas(3.14)\n",
    "skaiciaus_tipas(\"a\")"
   ]
  },
  {
   "cell_type": "code",
   "execution_count": 16,
   "metadata": {},
   "outputs": [
    {
     "name": "stdout",
     "output_type": "stream",
     "text": [
      "25\n"
     ]
    }
   ],
   "source": [
    "## Funkcija su grąžinama reikšme return\n",
    "## Funkcija su grąžinama reikšme (return) yra funkcija, \n",
    "## kuri apdoroja tam tikrą įvestį ir grąžina rezultatą. \n",
    "## Grąžinama reikšmė gali būti bet kokio tipo - skaičius, eilutė, sąrašas \n",
    "## ar netgi kitas objektas. Grąžinti reikšmę iš funkcijos yra būtina, \n",
    "## jei norite naudoti funkcijos apdorotus duomenis kitur programos eigoje.\n",
    "## Funkcija su grąžinama reikšme apibrėžiama return sakiniu. \n",
    "## Grąžinama reikšmė nurodoma iš kart po return, \n",
    "## o jei funkcija turi daugiau nei vieną grąžinamą reikšmę, \n",
    "## jos gali būti grąžinamos per tuple arba sąrašą.\n",
    "\n",
    "def kvadratu(x):\n",
    "    return x**2\n",
    "\n",
    "rezultatas = kvadratu(5)\n",
    "print(rezultatas)  # išvestų: 25"
   ]
  },
  {
   "cell_type": "code",
   "execution_count": null,
   "metadata": {},
   "outputs": [],
   "source": [
    "def suma(x, y):\n",
    "    rezultatas = x + y\n",
    "    return rezultatas\n",
    "\n",
    "atsakymas = suma(10, 2)\n",
    "print(atsakymas)  # išvestų: 12\n",
    "\n",
    "## Ši funkcija suma priima du argumentus: x ir y, \n",
    "## tuomet juos sudeda ir grąžina sumą naudodama return sakinį."
   ]
  },
  {
   "cell_type": "code",
   "execution_count": 18,
   "metadata": {},
   "outputs": [
    {
     "name": "stdout",
     "output_type": "stream",
     "text": [
      "(5, 6)\n",
      "5\n",
      "6\n",
      "[[2, 5], [-4, -1, -2]]\n"
     ]
    }
   ],
   "source": [
    "## Daugiau negu vieno kintamojo grąžinimas per tuple arba sąrašą (list)\n",
    "## Norint grąžinti du kintamuosius, galima jų reikšmes sudėti į tuple \n",
    "## ir grąžinti jį iš funkcijos, pavyzdžiui:\n",
    "\n",
    "def skaiciu_suma_ir_sandauga(a, b):\n",
    "    suma = a + b\n",
    "    sandauga = a * b\n",
    "    return (suma, sandauga)\n",
    "\n",
    "rezultatas = skaiciu_suma_ir_sandauga(2, 3)\n",
    "print(rezultatas)  # išvestų (5, 6)\n",
    "\n",
    "## Šiuo atveju skaiciu_suma_ir_sandauga funkcija grąžina du kintamuosius \n",
    "##- suma ir sandauga, sudėtas į tuple. Tuomet rezultatas kintamasis \n",
    "## priskiriamas tuple reikšmei, grąžintai iš funkcijos, ir išvedamas į ekraną.\n",
    "\n",
    "suma, sandauga = skaiciu_suma_ir_sandauga(2, 3)\n",
    "print(suma)     # 5\n",
    "print(sandauga) # 6\n",
    "\n",
    "## Taip pat galima grąžinti sąrašą:\n",
    "\n",
    "def teigiami_ir_neigiami_skaiciai(skaiciai):\n",
    "    teigiami = []\n",
    "    neigiami = []\n",
    "    for skaicius in skaiciai:\n",
    "        if skaicius > 0:\n",
    "            teigiami.append(skaicius)\n",
    "        else:\n",
    "            neigiami.append(skaicius)\n",
    "    return [teigiami, neigiami]\n",
    "\n",
    "skaiciai = [2, -4, 5, -1, -2]\n",
    "rezultatas = teigiami_ir_neigiami_skaiciai(skaiciai)\n",
    "print(rezultatas)  # išvestų [[2, 5], [-4, -1, -2]]\n",
    "\n",
    "## Šiuo atveju teigiami_ir_neigiami_skaiciai funkcija grąžina du sąrašus \n",
    "## - teigiami ir neigiami, kuriuos sudaro atitinkamai teigiami \n",
    "## ir neigiami skaičiai iš pradinio sąrašo. \n",
    "## Tuomet rezultatas kintamasis priskiriamas sąrašo reikšmei, grąžintai iš funkcijos, \n",
    "## ir išvedamas į ekraną.\n",
    "## ❗ Svarbu atkreipti dėmesį, kad grąžinamas objektas turi būti išsaugotas kaip tuple arba sąrašas, \n",
    "## kad galėtų būti naudojamas kaip toks, t.y. galima išgauti reikšmes su indeksavimu \n",
    "## ar kitiems objektų manipuliacijoms, o ne kaip keli atskiri kintamieji. \n",
    "## Taip pat galima naudoti ir žodyną dict."
   ]
  },
  {
   "cell_type": "code",
   "execution_count": 21,
   "metadata": {},
   "outputs": [
    {
     "data": {
      "text/plain": [
       "[5, 4, 3, 2, 1]"
      ]
     },
     "execution_count": 21,
     "metadata": {},
     "output_type": "execute_result"
    }
   ],
   "source": [
    "## UZDUOTYS:\n",
    "## Pirma:\n",
    "\n",
    "def sarasas_atvirksciai(sarasas):\n",
    "    return sarasas[::-1]\n",
    "\n",
    "sarasas = [1, 2, 3, 4, 5]\n",
    "sarasas_atvirksciai(sarasas)\n",
    "[5, 4, 3, 2, 1]"
   ]
  },
  {
   "cell_type": "code",
   "execution_count": 23,
   "metadata": {},
   "outputs": [
    {
     "name": "stdout",
     "output_type": "stream",
     "text": [
      "6.0\n"
     ]
    }
   ],
   "source": [
    "## Antra:\n",
    "# s = (a + b + c) / 2, kur a, b ir c yra trikampio kraštinių ilgiai\n",
    "# plotas = √(s * (s - a) * (s - b) * (s - c))\n",
    "\n",
    "def trikampio_plotas(a, b, c):\n",
    "    s = (a + b + c) / 2  # pusė perimetro\n",
    "    plotas = (s * (s - a) * (s - b) * (s - c)) ** 0.5\n",
    "    return plotas\n",
    "\n",
    "a = 3\n",
    "b = 4\n",
    "c = 5\n",
    "trikampio_plotas = trikampio_plotas(a, b, c)\n",
    "print(trikampio_plotas)  # išvestų: 6.0"
   ]
  },
  {
   "cell_type": "code",
   "execution_count": 25,
   "metadata": {},
   "outputs": [
    {
     "name": "stdout",
     "output_type": "stream",
     "text": [
      "['sekasi?']\n"
     ]
    }
   ],
   "source": [
    "# Trecia:\n",
    "\n",
    "def rinkti_zodzius_pagal_ilgi(sakinys, ilgis):\n",
    "    zodziai = sakinys.split()\n",
    "    ilgio_zodziai = []\n",
    "    for zodis in zodziai:\n",
    "        if len(zodis) == ilgis:\n",
    "           ilgio_zodziai.append(zodis)\n",
    "    return ilgio_zodziai\n",
    "\n",
    "sakinys = \"Labas vakaras, kaip sekasi?\"\n",
    "ilgis = 7\n",
    "zodziai = rinkti_zodzius_pagal_ilgi(sakinys, ilgis)\n",
    "print(zodziai)  # išvestų: ['vakaras', 'sekasi?']"
   ]
  },
  {
   "cell_type": "code",
   "execution_count": 26,
   "metadata": {},
   "outputs": [
    {
     "name": "stdout",
     "output_type": "stream",
     "text": [
      "9\n"
     ]
    }
   ],
   "source": [
    "# Ketvirta:\n",
    "\n",
    "def didziausias_skaicius(skaiciai):\n",
    "    didziausias = skaiciai[0]\n",
    "    for skaicius in skaiciai:\n",
    "        if skaicius > didziausias:\n",
    "            didziausias = skaicius\n",
    "    return didziausias\n",
    "\n",
    "skaiciai = [4, 2, 7, 1, 9, 5]\n",
    "didziausias = didziausias_skaicius(skaiciai)\n",
    "print(didziausias)  # išvestų: 9"
   ]
  },
  {
   "cell_type": "code",
   "execution_count": 27,
   "metadata": {},
   "outputs": [
    {
     "name": "stdout",
     "output_type": "stream",
     "text": [
      "['automobilis', 'arklys', 'avokadas']\n"
     ]
    }
   ],
   "source": [
    "# Penktas:\n",
    "\n",
    "def rinkti_zodzius_pagal_raide(zodziai, raide):\n",
    "    raides_zodziai = []\n",
    "    for zodis in zodziai:\n",
    "        if zodis[0] == raide:\n",
    "            raides_zodziai.append(zodis)\n",
    "    return raides_zodziai\n",
    "\n",
    "zodziai = [\"automobilis\", \"arklys\", \"avokadas\", \"bananas\", \"briedis\"]\n",
    "raide = \"a\"\n",
    "a_zodziai = rinkti_zodzius_pagal_raide(zodziai, raide)\n",
    "print(a_zodziai)  # išvestų: ['automobilis', 'avokadas']"
   ]
  },
  {
   "cell_type": "code",
   "execution_count": 28,
   "metadata": {},
   "outputs": [
    {
     "name": "stdout",
     "output_type": "stream",
     "text": [
      "['kaip']\n"
     ]
    }
   ],
   "source": [
    "# Sesta:\n",
    "\n",
    "def rinkti_lyginio_ilgio_zodzius(tekstas):\n",
    "    zodziai = tekstas.split()\n",
    "    lyginio_ilgio_zodziai = []\n",
    "    for zodis in zodziai:\n",
    "        if len(zodis) % 2 == 0:\n",
    "            lyginio_ilgio_zodziai.append(zodis)\n",
    "    return lyginio_ilgio_zodziai\n",
    "\n",
    "tekstas = \"Labas Vakare, kaip sekasi?\"\n",
    "lyginio_ilgio_zodziai = rinkti_lyginio_ilgio_zodzius(tekstas)\n",
    "print(lyginio_ilgio_zodziai)  # išvestų: ['Vakare,', 'kaip']"
   ]
  }
 ],
 "metadata": {
  "kernelspec": {
   "display_name": "venv",
   "language": "python",
   "name": "python3"
  },
  "language_info": {
   "codemirror_mode": {
    "name": "ipython",
    "version": 3
   },
   "file_extension": ".py",
   "mimetype": "text/x-python",
   "name": "python",
   "nbconvert_exporter": "python",
   "pygments_lexer": "ipython3",
   "version": "3.11.3"
  },
  "orig_nbformat": 4
 },
 "nbformat": 4,
 "nbformat_minor": 2
}
