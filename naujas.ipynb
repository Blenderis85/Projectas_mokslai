{
 "cells": [
  {
   "cell_type": "code",
   "execution_count": 1,
   "metadata": {},
   "outputs": [
    {
     "name": "stdout",
     "output_type": "stream",
     "text": [
      "['bananas', 'obuolys', 'apelsinas', 'kriause', 'mango']\n"
     ]
    }
   ],
   "source": [
    "sarasas = [\"bananas\", \"obuolys\", \"apelsinas\", \"kriause\", \"mango\"]\n",
    "print(sarasas)"
   ]
  },
  {
   "cell_type": "code",
   "execution_count": 3,
   "metadata": {},
   "outputs": [
    {
     "name": "stdout",
     "output_type": "stream",
     "text": [
      "bananas\n",
      "apelsinas\n",
      "mango\n"
     ]
    }
   ],
   "source": [
    "print(sarasas[0])\n",
    "print(sarasas[2])\n",
    "print(sarasas[-1])"
   ]
  },
  {
   "cell_type": "code",
   "execution_count": 4,
   "metadata": {},
   "outputs": [
    {
     "name": "stdout",
     "output_type": "stream",
     "text": [
      "['bananas', 'obuolys', 'apelsinas']\n",
      "['kriause', 'mango']\n",
      "['obuolys', 'apelsinas', 'kriause']\n",
      "['bananas', 'apelsinas', 'mango']\n"
     ]
    }
   ],
   "source": [
    "print(sarasas[:3])\n",
    "print(sarasas[-2:])\n",
    "print(sarasas[1:4])\n",
    "print(sarasas[::2])"
   ]
  },
  {
   "cell_type": "code",
   "execution_count": 5,
   "metadata": {},
   "outputs": [
    {
     "name": "stdout",
     "output_type": "stream",
     "text": [
      "['bananas', 'obuolys', 'apelsinas', 'kriause', 'mango', 'braske']\n"
     ]
    }
   ],
   "source": [
    "sarasas.append(\"braske\")\n",
    "print(sarasas)"
   ]
  },
  {
   "cell_type": "code",
   "execution_count": 6,
   "metadata": {},
   "outputs": [
    {
     "name": "stdout",
     "output_type": "stream",
     "text": [
      "['bananas', 'obuolys', 'apelsinas', 'avokadas', 'kriause', 'mango', 'braske']\n"
     ]
    }
   ],
   "source": [
    "sarasas.insert(3, \"avokadas\")\n",
    "print(sarasas)"
   ]
  },
  {
   "cell_type": "code",
   "execution_count": 7,
   "metadata": {},
   "outputs": [
    {
     "name": "stdout",
     "output_type": "stream",
     "text": [
      "['bananas', 'varske', 'apelsinas', 'avokadas', 'kriause', 'mango', 'braske']\n"
     ]
    }
   ],
   "source": [
    "sarasas[1] = \"varske\"\n",
    "print(sarasas)"
   ]
  },
  {
   "cell_type": "code",
   "execution_count": 8,
   "metadata": {},
   "outputs": [
    {
     "name": "stdout",
     "output_type": "stream",
     "text": [
      "['varske', 'apelsinas', 'avokadas', 'kriause', 'mango', 'braske']\n"
     ]
    }
   ],
   "source": [
    "del sarasas[0]\n",
    "print(sarasas)"
   ]
  },
  {
   "cell_type": "code",
   "execution_count": 9,
   "metadata": {},
   "outputs": [
    {
     "name": "stdout",
     "output_type": "stream",
     "text": [
      "['varske', 'apelsinas', 'kriause', 'mango', 'braske']\n"
     ]
    }
   ],
   "source": [
    "sarasas.pop(2)\n",
    "print(sarasas)"
   ]
  },
  {
   "cell_type": "code",
   "execution_count": 10,
   "metadata": {},
   "outputs": [
    {
     "name": "stdout",
     "output_type": "stream",
     "text": [
      "3\n"
     ]
    }
   ],
   "source": [
    "print(sarasas.index(\"mango\"))"
   ]
  },
  {
   "cell_type": "code",
   "execution_count": 11,
   "metadata": {},
   "outputs": [
    {
     "name": "stdout",
     "output_type": "stream",
     "text": [
      "['braske', 'mango', 'kriause', 'apelsinas', 'varske']\n"
     ]
    }
   ],
   "source": [
    "sarasas.reverse()\n",
    "print(sarasas)"
   ]
  },
  {
   "cell_type": "code",
   "execution_count": 12,
   "metadata": {},
   "outputs": [
    {
     "name": "stdout",
     "output_type": "stream",
     "text": [
      "5\n"
     ]
    }
   ],
   "source": [
    "print(len(sarasas))"
   ]
  },
  {
   "cell_type": "code",
   "execution_count": 13,
   "metadata": {},
   "outputs": [
    {
     "name": "stdout",
     "output_type": "stream",
     "text": [
      "True\n"
     ]
    }
   ],
   "source": [
    "print(\"mango\" in sarasas)"
   ]
  },
  {
   "cell_type": "code",
   "execution_count": 2,
   "metadata": {},
   "outputs": [
    {
     "name": "stdout",
     "output_type": "stream",
     "text": [
      "Pirmas\n",
      "Antras\n",
      "Trecias\n",
      "Ketvirtas\n",
      "Penktas\n"
     ]
    }
   ],
   "source": [
    "grupe = [\"Pirmas\", \"Antras\", \"Trecias\", \"Ketvirtas\", \"Penktas\"]\n",
    "for eile in grupe:\n",
    "    print(eile)"
   ]
  },
  {
   "cell_type": "code",
   "execution_count": 3,
   "metadata": {},
   "outputs": [
    {
     "name": "stdout",
     "output_type": "stream",
     "text": [
      "1: labas, simbolių kiekis: 5\n",
      "2: kitas, simbolių kiekis: 5\n",
      "3: katinas, simbolių kiekis: 7\n",
      "4: zvirblis, simbolių kiekis: 8\n",
      "5: gandras, simbolių kiekis: 7\n",
      "Žodžių kiekis: 5\n"
     ]
    }
   ],
   "source": [
    "zodziai = []\n",
    "\n",
    "for zodis in range(5):\n",
    "    zodziai.append(input('Įveskite žodį: '))\n",
    "\n",
    "for numeris, zodis in enumerate(zodziai):\n",
    "    print(f'{numeris + 1}: {zodis}, simbolių kiekis: {len(zodis)}')\n",
    "print('Žodžių kiekis:', len(zodziai))"
   ]
  },
  {
   "cell_type": "code",
   "execution_count": 4,
   "metadata": {},
   "outputs": [
    {
     "name": "stdout",
     "output_type": "stream",
     "text": [
      "Nekeliamieji metai\n"
     ]
    }
   ],
   "source": [
    "metai = int(input('Įveskite metus: '))\n",
    "if (metai % 400 == 0) or (metai % 100 != 0 and metai % 4 == 0):\n",
    "    print('Keliamieji metai')\n",
    "else:\n",
    "    print('Nekeliamieji metai')"
   ]
  },
  {
   "cell_type": "code",
   "execution_count": 6,
   "metadata": {},
   "outputs": [
    {
     "name": "stdout",
     "output_type": "stream",
     "text": [
      "1988\n",
      "1992\n",
      "1996\n",
      "2000\n",
      "2004\n",
      "2008\n",
      "2012\n",
      "2016\n",
      "2020\n"
     ]
    }
   ],
   "source": [
    "for metai in range(1985, 2023):\n",
    "    if metai % 400 == 0:\n",
    "        print(metai)\n",
    "    elif metai % 100 == 0:\n",
    "        continue\n",
    "    elif metai % 4 == 0:\n",
    "        print(metai)\n",
    "    else:\n",
    "        continue"
   ]
  },
  {
   "cell_type": "code",
   "execution_count": 7,
   "metadata": {},
   "outputs": [
    {
     "name": "stdout",
     "output_type": "stream",
     "text": [
      "10\n",
      "9\n",
      "8\n",
      "7\n",
      "6\n",
      "5\n",
      "4\n",
      "3\n",
      "2\n",
      "1\n",
      "0\n",
      "-1\n"
     ]
    }
   ],
   "source": [
    "skaicius = 10\n",
    "while skaicius >= -1:\n",
    "    print(skaicius)\n",
    "    skaicius -= 1"
   ]
  },
  {
   "cell_type": "code",
   "execution_count": 8,
   "metadata": {},
   "outputs": [
    {
     "name": "stdout",
     "output_type": "stream",
     "text": [
      "4\n",
      "3\n",
      "2\n",
      "1\n",
      "Pratęsiame ciklą, nes pasiektas skaičius 0\n",
      "-1\n",
      "-2\n",
      "-3\n",
      "-4\n",
      "Sustabdomas ciklas, nes pasiektas skaičius -5\n"
     ]
    }
   ],
   "source": [
    "skaicius = 5\n",
    "while skaicius >= -10:\n",
    "    skaicius -= 1\n",
    "    if skaicius == -5:\n",
    "        print('Sustabdomas ciklas, nes pasiektas skaičius -5')\n",
    "        break\n",
    "    elif skaicius == 0:\n",
    "        print('Pratęsiame ciklą, nes pasiektas skaičius 0')\n",
    "        continue\n",
    "    print(skaicius)"
   ]
  },
  {
   "cell_type": "code",
   "execution_count": 2,
   "metadata": {},
   "outputs": [
    {
     "name": "stdout",
     "output_type": "stream",
     "text": [
      "11\n"
     ]
    }
   ],
   "source": [
    "suma = 0\n",
    "\n",
    "while True:\n",
    "    skaicius = int(input('Įveskite skaičių: '))\n",
    "    if skaicius < 0:\n",
    "        break\n",
    "    suma += skaicius\n",
    "\n",
    "print(suma)"
   ]
  },
  {
   "cell_type": "code",
   "execution_count": 3,
   "metadata": {},
   "outputs": [
    {
     "name": "stdout",
     "output_type": "stream",
     "text": [
      "('Radiohead', 'The Beatles', 'Pink Floyd', 'Led Zeppelin')\n"
     ]
    }
   ],
   "source": [
    "megstamos_grupes = ('Radiohead', 'The Beatles', 'Pink Floyd', 'Led Zeppelin')\n",
    "print(megstamos_grupes)"
   ]
  },
  {
   "cell_type": "code",
   "execution_count": 4,
   "metadata": {},
   "outputs": [
    {
     "name": "stdout",
     "output_type": "stream",
     "text": [
      "('Radiohead', 'The Beatles', 'Pink Floyd', 'Led Zeppelin', 'Queen', 'The Beatles', 'Nirvana', 'Led Zeppelin')\n"
     ]
    }
   ],
   "source": [
    "kitos_grupes = ('Queen', 'The Beatles', 'Nirvana', 'Led Zeppelin')\n",
    "visos_grupes = megstamos_grupes + kitos_grupes\n",
    "print(visos_grupes)"
   ]
  },
  {
   "cell_type": "code",
   "execution_count": 5,
   "metadata": {},
   "outputs": [
    {
     "name": "stdout",
     "output_type": "stream",
     "text": [
      "Radiohead\n",
      "Pink Floyd\n",
      "Led Zeppelin\n"
     ]
    }
   ],
   "source": [
    "print(visos_grupes[0])\n",
    "print(visos_grupes[2])\n",
    "print(visos_grupes[-1])"
   ]
  },
  {
   "cell_type": "code",
   "execution_count": 6,
   "metadata": {},
   "outputs": [
    {
     "name": "stdout",
     "output_type": "stream",
     "text": [
      "('Radiohead', 'Pink Floyd', 'Queen', 'Nirvana')\n"
     ]
    }
   ],
   "source": [
    "print(visos_grupes[::2])"
   ]
  },
  {
   "cell_type": "code",
   "execution_count": 7,
   "metadata": {},
   "outputs": [
    {
     "name": "stdout",
     "output_type": "stream",
     "text": [
      "Grupė 'Led Zeppelin' pasikartoja:  2\n",
      "Grupės 'Pink Floyd' indeksas yra:  2\n",
      "False\n"
     ]
    }
   ],
   "source": [
    "kartai = visos_grupes.count('Led Zeppelin')\n",
    "print(\"Grupė 'Led Zeppelin' pasikartoja: \", kartai)\n",
    "\n",
    "indeksas = visos_grupes.index('Pink Floyd')\n",
    "print(\"Grupės 'Pink Floyd' indeksas yra: \", indeksas)\n",
    "\n",
    "print('Deep Purple' in visos_grupes)"
   ]
  },
  {
   "attachments": {},
   "cell_type": "markdown",
   "metadata": {},
   "source": [
    "## Aibes uzduotis"
   ]
  },
  {
   "cell_type": "code",
   "execution_count": 8,
   "metadata": {},
   "outputs": [
    {
     "name": "stdout",
     "output_type": "stream",
     "text": [
      "{1, 2, 3, 4, 5}\n"
     ]
    }
   ],
   "source": [
    "pirma_aibe = {1, 2, 3, 4}\n",
    "pirma_aibe.add(5)\n",
    "print(pirma_aibe)"
   ]
  },
  {
   "cell_type": "code",
   "execution_count": 9,
   "metadata": {},
   "outputs": [
    {
     "name": "stdout",
     "output_type": "stream",
     "text": [
      "{3, 4, 5, 6, 8}\n"
     ]
    }
   ],
   "source": [
    "antra_aibe = {3, 4, 5, 6, 7, 8}\n",
    "antra_aibe.discard(7)\n",
    "print(antra_aibe)"
   ]
  },
  {
   "cell_type": "code",
   "execution_count": 10,
   "metadata": {},
   "outputs": [
    {
     "name": "stdout",
     "output_type": "stream",
     "text": [
      "{3, 4, 5}\n"
     ]
    }
   ],
   "source": [
    "trecia_aibe = pirma_aibe.intersection(antra_aibe)\n",
    "print(trecia_aibe)"
   ]
  },
  {
   "cell_type": "code",
   "execution_count": 11,
   "metadata": {},
   "outputs": [
    {
     "name": "stdout",
     "output_type": "stream",
     "text": [
      "{1, 2}\n"
     ]
    }
   ],
   "source": [
    "ketvirta_aibe = pirma_aibe.difference(antra_aibe)\n",
    "print(ketvirta_aibe)"
   ]
  },
  {
   "cell_type": "code",
   "execution_count": 12,
   "metadata": {},
   "outputs": [
    {
     "name": "stdout",
     "output_type": "stream",
     "text": [
      "{8, 6}\n"
     ]
    }
   ],
   "source": [
    "penkta_aibe = antra_aibe.difference(pirma_aibe)\n",
    "print(penkta_aibe)"
   ]
  }
 ],
 "metadata": {
  "kernelspec": {
   "display_name": "venv",
   "language": "python",
   "name": "python3"
  },
  "language_info": {
   "codemirror_mode": {
    "name": "ipython",
    "version": 3
   },
   "file_extension": ".py",
   "mimetype": "text/x-python",
   "name": "python",
   "nbconvert_exporter": "python",
   "pygments_lexer": "ipython3",
   "version": "3.11.3"
  },
  "orig_nbformat": 4
 },
 "nbformat": 4,
 "nbformat_minor": 2
}
