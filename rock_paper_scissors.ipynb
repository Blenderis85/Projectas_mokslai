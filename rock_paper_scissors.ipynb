{
 "cells": [
  {
   "cell_type": "code",
   "execution_count": 13,
   "metadata": {},
   "outputs": [
    {
     "name": "stdout",
     "output_type": "stream",
     "text": [
      "Enter choice: 1: Rock, 2: Paper, 3: Scissor\n",
      "Computer: 1\n",
      "Computer wins!\n"
     ]
    }
   ],
   "source": [
    "import random\n",
    "\n",
    "print(\"Enter choice: 1: Rock, 2: Paper, 3: Scissor\")\n",
    "choice = input(\"Choice (1/2/3): \")\n",
    "choice = int(choice)\n",
    "\n",
    "if choice not in [1, 2, 3]:\n",
    "    print(\"Wrong number!\")\n",
    "else:\n",
    "    computer_choice = random.randint(1, 3)\n",
    "    print(f\"Computer: {computer_choice}\")\n",
    "\n",
    "    if choice == computer_choice:\n",
    "        print(\"Draw!\")\n",
    "    elif choice == 1: # Rock\n",
    "        if computer_choice == 2: # Paper\n",
    "            print(\"Computer wins!\")\n",
    "        else:\n",
    "            print(\"You win!\")\n",
    "    elif choice == 2: # Paper\n",
    "        if computer_choice == 1: # Rock\n",
    "            print(\"You win!\")\n",
    "        else:\n",
    "            print(\"Computer wins!\")\n",
    "    elif choice == 3: # Scissor\n",
    "        if computer_choice == 1: # Rock\n",
    "            print(\"Computer wins!\")\n",
    "        else:\n",
    "            print(\"You win!\")\n"
   ]
  }
 ],
 "metadata": {
  "kernelspec": {
   "display_name": "venv",
   "language": "python",
   "name": "python3"
  },
  "language_info": {
   "codemirror_mode": {
    "name": "ipython",
    "version": 3
   },
   "file_extension": ".py",
   "mimetype": "text/x-python",
   "name": "python",
   "nbconvert_exporter": "python",
   "pygments_lexer": "ipython3",
   "version": "3.11.3"
  },
  "orig_nbformat": 4
 },
 "nbformat": 4,
 "nbformat_minor": 2
}
