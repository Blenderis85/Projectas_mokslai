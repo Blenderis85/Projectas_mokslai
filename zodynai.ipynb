{
 "cells": [
  {
   "cell_type": "code",
   "execution_count": 1,
   "metadata": {},
   "outputs": [
    {
     "name": "stdout",
     "output_type": "stream",
     "text": [
      "{'Nika': 2, 'Reksis': 3, 'Tobis': 1}\n"
     ]
    }
   ],
   "source": [
    "augintiniai = {\"Nika\": 2, \"Reksis\": 3, \"Tobis\": 1}\n",
    "print(augintiniai)"
   ]
  },
  {
   "cell_type": "code",
   "execution_count": 2,
   "metadata": {},
   "outputs": [
    {
     "name": "stdout",
     "output_type": "stream",
     "text": [
      "2\n"
     ]
    }
   ],
   "source": [
    "print(augintiniai[\"Nika\"])"
   ]
  },
  {
   "cell_type": "code",
   "execution_count": 4,
   "metadata": {},
   "outputs": [
    {
     "name": "stdout",
     "output_type": "stream",
     "text": [
      "{'Nika': 2, 'Reksis': 1, 'Tobis': 1, 'Tepals': 1}\n"
     ]
    }
   ],
   "source": [
    "augintiniai[\"Tepals\"] = 1\n",
    "print(augintiniai)"
   ]
  },
  {
   "cell_type": "code",
   "execution_count": 5,
   "metadata": {},
   "outputs": [
    {
     "name": "stdout",
     "output_type": "stream",
     "text": [
      "{'Nika': 2, 'Reksis': 4, 'Tobis': 1, 'Tepals': 1}\n"
     ]
    }
   ],
   "source": [
    "augintiniai[\"Reksis\"] = 4\n",
    "print(augintiniai)"
   ]
  },
  {
   "cell_type": "code",
   "execution_count": 6,
   "metadata": {},
   "outputs": [
    {
     "name": "stdout",
     "output_type": "stream",
     "text": [
      "{'Nika': 2, 'Reksis': 4, 'Tobis': 1}\n"
     ]
    }
   ],
   "source": [
    "del augintiniai[\"Tepals\"]\n",
    "print(augintiniai)"
   ]
  },
  {
   "cell_type": "code",
   "execution_count": 7,
   "metadata": {},
   "outputs": [
    {
     "name": "stdout",
     "output_type": "stream",
     "text": [
      "dict_keys(['Nika', 'Reksis', 'Tobis'])\n",
      "dict_values([2, 4, 1])\n",
      "dict_items([('Nika', 2), ('Reksis', 4), ('Tobis', 1)])\n",
      "4\n"
     ]
    }
   ],
   "source": [
    "vardai = augintiniai.keys()\n",
    "print(vardai)\n",
    "\n",
    "amzius = augintiniai.values()\n",
    "print(amzius)\n",
    "\n",
    "augintiniu_sarasas = augintiniai.items()\n",
    "print(augintiniu_sarasas)\n",
    "\n",
    "suo = augintiniai.get(\"Reksis\")\n",
    "print(suo)"
   ]
  }
 ],
 "metadata": {
  "kernelspec": {
   "display_name": "venv",
   "language": "python",
   "name": "python3"
  },
  "language_info": {
   "codemirror_mode": {
    "name": "ipython",
    "version": 3
   },
   "file_extension": ".py",
   "mimetype": "text/x-python",
   "name": "python",
   "nbconvert_exporter": "python",
   "pygments_lexer": "ipython3",
   "version": "3.11.3"
  },
  "orig_nbformat": 4
 },
 "nbformat": 4,
 "nbformat_minor": 2
}
