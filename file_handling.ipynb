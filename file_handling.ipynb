{
 "cells": [
  {
   "cell_type": "code",
   "execution_count": null,
   "metadata": {},
   "outputs": [],
   "source": [
    "f = open(\"demo_failas.txt\", \"r\")\n",
    "print(f.read())"
   ]
  },
  {
   "cell_type": "code",
   "execution_count": null,
   "metadata": {},
   "outputs": [],
   "source": [
    "f = open(\"demo_failas.txt\", \"r\")\n",
    "print(f.read(5))"
   ]
  },
  {
   "cell_type": "code",
   "execution_count": null,
   "metadata": {},
   "outputs": [],
   "source": [
    "f = open(\"demo_failas.txt\", \"r\")\n",
    "print(f.readline())"
   ]
  },
  {
   "cell_type": "code",
   "execution_count": null,
   "metadata": {},
   "outputs": [],
   "source": [
    "f = open(\"demo_failas.txt\", \"r\")\n",
    "print(f.readline())\n",
    "print(f.readline())"
   ]
  },
  {
   "cell_type": "code",
   "execution_count": null,
   "metadata": {},
   "outputs": [],
   "source": [
    "f = open(\"demo_failas.txt\", \"r\")\n",
    "for x in f:\n",
    "  print(x)"
   ]
  },
  {
   "cell_type": "code",
   "execution_count": null,
   "metadata": {},
   "outputs": [],
   "source": [
    "f = open(\"demo_failas.txt\", \"r\")\n",
    "print(f.readline())\n",
    "f.close() ## Uzdaryti faila yra gera praktika."
   ]
  },
  {
   "cell_type": "code",
   "execution_count": null,
   "metadata": {},
   "outputs": [],
   "source": [
    "f = open(\"demo_failas2.txt\", \"a\")\n",
    "f.write(\"Now the file has more content!\")\n",
    "f.close()\n",
    "\n",
    "#open and read the file after the appending:\n",
    "f = open(\"demo_failas2.txt\", \"r\")\n",
    "print(f.read())"
   ]
  },
  {
   "cell_type": "code",
   "execution_count": null,
   "metadata": {},
   "outputs": [],
   "source": [
    "f = open(\"demo_failas3.txt\", \"w\")\n",
    "f.write(\"Woops! I have deleted the content!\")\n",
    "f.close()\n",
    "\n",
    "#open and read the file after the overwriting:\n",
    "f = open(\"demo_failas3.txt\", \"r\")\n",
    "print(f.read())\n",
    "f.close()"
   ]
  },
  {
   "cell_type": "code",
   "execution_count": null,
   "metadata": {},
   "outputs": [],
   "source": [
    "f = open(\"mano_failas.txt\", \"x\")\n",
    "f.close()"
   ]
  },
  {
   "cell_type": "code",
   "execution_count": null,
   "metadata": {},
   "outputs": [],
   "source": [
    "import os\n",
    "os.remove(\"mano_failas.txt\")"
   ]
  },
  {
   "cell_type": "code",
   "execution_count": null,
   "metadata": {},
   "outputs": [],
   "source": [
    "import os\n",
    "if os.path.exists(\"mano_failas.txt\"):\n",
    "  os.remove(\"mano_failas.txt\")\n",
    "else:\n",
    "  print(\"The file does not exist\")"
   ]
  },
  {
   "cell_type": "code",
   "execution_count": null,
   "metadata": {},
   "outputs": [],
   "source": [
    "## with open() yra naujesnis ir rekomenduojamas būdas atlikti failų operacijas. \n",
    "## Jis yra paprastesnis ir saugesnis nei open() ir close()funkcijos. with užtikrina, \n",
    "## kad failas automatiškai bus uždarytas, kai bus baigtas jo naudojimas. \n",
    "## Tai leidžia išvengti potencialių nuostolių ir sumažinti programos apkrovą. \n",
    "## Štai kaip galite naudoti with kartu su open() funkcija:\n",
    "\n",
    "## with open(\"tekstas.txt\", \"r\") as failas: ##\n",
    "    # atliekamos operacijos su failu\n",
    "\n",
    "with open(\"demo_failas.txt\", \"r\") as failas:\n",
    "    print(failas.read())"
   ]
  },
  {
   "cell_type": "code",
   "execution_count": null,
   "metadata": {},
   "outputs": [],
   "source": [
    "with open('demo_failas.txt', 'r') as failas:\n",
    "    viskas = failas.read()\n",
    "    print(viskas)"
   ]
  },
  {
   "cell_type": "code",
   "execution_count": 16,
   "metadata": {},
   "outputs": [],
   "source": [
    "## Žymė \"a\" naudojamaa, kai norite pridėti turinį prie esamo failo. \n",
    "## Jei failas neegzistuoja, jis bus sukurtas.\n",
    "\n",
    "with open(\"papildymas.txt\", \"a\", encoding=\"utf-8\") as failas:\n",
    "    failas.write(\"Papildoma eilutė.\\n\")\n",
    "\n",
    "## Naudojam encodinga lietuviskom raidem!"
   ]
  },
  {
   "cell_type": "code",
   "execution_count": 25,
   "metadata": {},
   "outputs": [
    {
     "name": "stdout",
     "output_type": "stream",
     "text": [
      "Pradinis turinys:  Pakeista eilute.\n",
      "\n"
     ]
    }
   ],
   "source": [
    "## Žymė \"r+\" naudojama, kai norite atidaryti failą tiek skaitymui, \n",
    "## tiek rašymui. Jei failas neegzistuoja, jis nebus sukurtas.\n",
    "\n",
    "with open(\"skaitymas_rasymas.txt\", \"r+\") as failas:\n",
    "    # Skaitymas\n",
    "    turinys = failas.read()\n",
    "    \n",
    "    # Rašymas\n",
    "    failas.seek(0)  # grįžkite į failo pradžią\n",
    "    failas.write(\"Pakeista eilute.\\n\")\n",
    "    print(\"Pradinis turinys: \", turinys)"
   ]
  },
  {
   "cell_type": "code",
   "execution_count": null,
   "metadata": {},
   "outputs": [],
   "source": [
    "## Žymė \"w+\" naudojama, kai norite atidaryti failą tiek rašymui, \n",
    "## tiek skaitymui. Jei failas neegzistuoja, jis bus sukurtas. \n",
    "## Jei failas egzistuoja, jo turinys bus ištrintas.\n",
    "\n",
    "with open(\"rasymas_skaitymas.txt\", \"w+\") as failas:\n",
    "    # Rašymas\n",
    "    failas.write(\"Nauja eilute.\\n\")\n",
    "\n",
    "    # Skaitymas\n",
    "    failas.seek(0)  # grįžkite į failo pradžią\n",
    "    turinys = failas.read()\n",
    "    print(\"Naujas turinys: \", turinys)"
   ]
  }
 ],
 "metadata": {
  "kernelspec": {
   "display_name": "venv",
   "language": "python",
   "name": "python3"
  },
  "language_info": {
   "codemirror_mode": {
    "name": "ipython",
    "version": 3
   },
   "file_extension": ".py",
   "mimetype": "text/x-python",
   "name": "python",
   "nbconvert_exporter": "python",
   "pygments_lexer": "ipython3",
   "version": "3.11.3"
  },
  "orig_nbformat": 4
 },
 "nbformat": 4,
 "nbformat_minor": 2
}
