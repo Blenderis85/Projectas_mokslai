{
 "cells": [
  {
   "cell_type": "code",
   "execution_count": 2,
   "metadata": {},
   "outputs": [
    {
     "name": "stdout",
     "output_type": "stream",
     "text": [
      "Sveiki atvykę į interaktyvų skaičiuotuvą!\n",
      "Pasirinkite veiksmą, kuriuo norite atlikti su dviem skaičiais:\n",
      "1 - Sudėtis\n",
      "2 - Atimtis\n",
      "3 - Daugyba\n",
      "4 - Dalyba\n",
      "Rezultatas:  13.0\n"
     ]
    }
   ],
   "source": [
    "#Interaktyvus skaičiuotuvas, \n",
    "#kuris paprašys vartotojo įvesti du skaičius \n",
    "#ir atliks nurodytą operaciją su šiais skaičiais.\n",
    "\n",
    "print(\"Sveiki atvykę į interaktyvų skaičiuotuvą!\")\n",
    "print(\"Pasirinkite veiksmą, kuriuo norite atlikti su dviem skaičiais:\")\n",
    "print(\"1 - Sudėtis\")\n",
    "print(\"2 - Atimtis\")\n",
    "print(\"3 - Daugyba\")\n",
    "print(\"4 - Dalyba\") \n",
    "\n",
    "choice = input(\"Įveskite savo pasirinkimą (1-4): \")\n",
    "num1 = float(input(\"Įveskite pirmąjį skaičių: \"))\n",
    "num2 = float(input(\"Įveskite antrąjį skaičių: \"))\n",
    "\n",
    "if choice == '1':\n",
    "    result = num1 + num2\n",
    "    print(\"Rezultatas: \", result)\n",
    "elif choice == '2':\n",
    "    result = num1 - num2\n",
    "    print(\"Rezultatas: \", result)\n",
    "elif choice == '3':\n",
    "    result = num1 * num2\n",
    "    print(\"Rezultatas: \", result)\n",
    "elif choice == '4':\n",
    "    result = num1 / num2\n",
    "    print(\"Rezultatas: \", result)\n",
    "else:\n",
    "    print(\"Netinkamas pasirinkimas\")"
   ]
  }
 ],
 "metadata": {
  "kernelspec": {
   "display_name": "venv",
   "language": "python",
   "name": "python3"
  },
  "language_info": {
   "codemirror_mode": {
    "name": "ipython",
    "version": 3
   },
   "file_extension": ".py",
   "mimetype": "text/x-python",
   "name": "python",
   "nbconvert_exporter": "python",
   "pygments_lexer": "ipython3",
   "version": "3.11.3"
  },
  "orig_nbformat": 4
 },
 "nbformat": 4,
 "nbformat_minor": 2
}
