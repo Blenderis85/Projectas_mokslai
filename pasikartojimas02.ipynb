{
 "cells": [
  {
   "cell_type": "code",
   "execution_count": 1,
   "metadata": {},
   "outputs": [
    {
     "name": "stdout",
     "output_type": "stream",
     "text": [
      "Sveiki, pasauli!\n"
     ]
    }
   ],
   "source": [
    "print(\"Sveiki, pasauli!\")"
   ]
  },
  {
   "cell_type": "code",
   "execution_count": 5,
   "metadata": {},
   "outputs": [
    {
     "name": "stdout",
     "output_type": "stream",
     "text": [
      "10\n"
     ]
    }
   ],
   "source": [
    "x = 5\n",
    "x = 10\n",
    "print(x)"
   ]
  },
  {
   "cell_type": "code",
   "execution_count": 7,
   "metadata": {},
   "outputs": [
    {
     "name": "stdout",
     "output_type": "stream",
     "text": [
      "1 3\n"
     ]
    }
   ],
   "source": [
    "x, y, z = 1, 2, 3\n",
    "print(x, z)"
   ]
  },
  {
   "cell_type": "code",
   "execution_count": 8,
   "metadata": {},
   "outputs": [
    {
     "name": "stdout",
     "output_type": "stream",
     "text": [
      "<class 'int'>\n"
     ]
    }
   ],
   "source": [
    "x = 5\n",
    "print(type(x))"
   ]
  },
  {
   "cell_type": "code",
   "execution_count": 10,
   "metadata": {},
   "outputs": [
    {
     "name": "stdout",
     "output_type": "stream",
     "text": [
      "<class 'int'>\n",
      "<class 'str'>\n",
      "<class 'float'>\n"
     ]
    }
   ],
   "source": [
    "x = 5\n",
    "y = \"Hello, world!\"\n",
    "z = 3.14\n",
    "print(type(x))\n",
    "print(type(y))\n",
    "print(type(z))"
   ]
  },
  {
   "cell_type": "code",
   "execution_count": 11,
   "metadata": {},
   "outputs": [
    {
     "name": "stdout",
     "output_type": "stream",
     "text": [
      "<class 'complex'>\n"
     ]
    }
   ],
   "source": [
    "x = 5        # sveikasis skaičius\n",
    "y = 3.14     # slankiojo kablelio skaičius\n",
    "z = 2 + 3j   # kompleksinis skaičius\n",
    "print(type(z))"
   ]
  },
  {
   "attachments": {},
   "cell_type": "markdown",
   "metadata": {},
   "source": [
    "## Uzduotis 02 03"
   ]
  },
  {
   "cell_type": "code",
   "execution_count": 12,
   "metadata": {},
   "outputs": [
    {
     "name": "stdout",
     "output_type": "stream",
     "text": [
      "5 <class 'int'>\n",
      "3.5 <class 'float'>\n",
      "2j <class 'complex'>\n"
     ]
    }
   ],
   "source": [
    "a = 5\n",
    "b = 3.5\n",
    "c = 2j \n",
    "print(a, type(a))\n",
    "print(b, type(b))\n",
    "print(c, type(c))"
   ]
  },
  {
   "cell_type": "code",
   "execution_count": 13,
   "metadata": {},
   "outputs": [
    {
     "name": "stdout",
     "output_type": "stream",
     "text": [
      "<class 'str'>\n"
     ]
    }
   ],
   "source": [
    "a = \"Hello, world!\"\n",
    "print(type(a))"
   ]
  },
  {
   "cell_type": "code",
   "execution_count": 18,
   "metadata": {},
   "outputs": [
    {
     "name": "stdout",
     "output_type": "stream",
     "text": [
      "1\n"
     ]
    }
   ],
   "source": [
    "a = 10 % 3  \n",
    "print(a)"
   ]
  },
  {
   "attachments": {},
   "cell_type": "markdown",
   "metadata": {},
   "source": [
    "## Uzduotis 02 04\n"
   ]
  },
  {
   "cell_type": "code",
   "execution_count": 19,
   "metadata": {},
   "outputs": [
    {
     "name": "stdout",
     "output_type": "stream",
     "text": [
      "12.5\n",
      "7.5\n",
      "62.5\n",
      "4.0\n",
      "316.22776601683796\n"
     ]
    }
   ],
   "source": [
    "x = 10\n",
    "y = 2.5\n",
    "z = 2j \n",
    "\n",
    "atsakymas1 = x + y\n",
    "atsakymas2 = x - y\n",
    "atsakymas3 = x * y * y\n",
    "atsakymas4 = x / y  \n",
    "atsakymas5 = x ** y\n",
    "\n",
    "print(atsakymas1)\n",
    "print(atsakymas2)\n",
    "print(atsakymas3)\n",
    "print(atsakymas4)\n",
    "print(atsakymas5)"
   ]
  },
  {
   "cell_type": "code",
   "execution_count": 24,
   "metadata": {},
   "outputs": [
    {
     "name": "stdout",
     "output_type": "stream",
     "text": [
      "6.0\n",
      "1.0\n"
     ]
    }
   ],
   "source": [
    "a = 10\n",
    "b = 1.5\n",
    "\n",
    "atsakymas1 = a // b\n",
    "atsakymas2 = a % b\n",
    "\n",
    "print(atsakymas1)\n",
    "print(atsakymas2)"
   ]
  },
  {
   "cell_type": "code",
   "execution_count": 25,
   "metadata": {},
   "outputs": [
    {
     "name": "stdout",
     "output_type": "stream",
     "text": [
      "a ir b nera lygus\n"
     ]
    }
   ],
   "source": [
    "a = 10\n",
    "b = 5\n",
    "if a == b:\n",
    "    print(\"a ir b yra lygus\")\n",
    "else:\n",
    "    print(\"a ir b nera lygus\")"
   ]
  },
  {
   "cell_type": "code",
   "execution_count": 27,
   "metadata": {},
   "outputs": [
    {
     "name": "stdout",
     "output_type": "stream",
     "text": [
      "Abu teiginiai yra tiesa\n"
     ]
    }
   ],
   "source": [
    "a = 10\n",
    "b = 5\n",
    "if a > 5 and b < 10:\n",
    "    print(\"Abu teiginiai yra tiesa\")\n",
    "else:\n",
    "    print(\"Vienas ar abu teiginiai yra netiesa\")"
   ]
  },
  {
   "cell_type": "code",
   "execution_count": 28,
   "metadata": {},
   "outputs": [
    {
     "name": "stdout",
     "output_type": "stream",
     "text": [
      "True\n"
     ]
    }
   ],
   "source": [
    "a = 10\n",
    "b = 5\n",
    "c = 20\n",
    "d = a > b and b < c or c == 20\n",
    "print(d) # spausdina True"
   ]
  },
  {
   "attachments": {},
   "cell_type": "markdown",
   "metadata": {},
   "source": [
    "## Uzduotis 02 05"
   ]
  },
  {
   "cell_type": "code",
   "execution_count": 30,
   "metadata": {},
   "outputs": [
    {
     "name": "stdout",
     "output_type": "stream",
     "text": [
      "Skaicius yra neigiamas\n"
     ]
    }
   ],
   "source": [
    "a = int(input(\"Iveskite skaiciu: \"))\n",
    "if a > 0:\n",
    "    print(\"Skaicius yra teigiamas\")\n",
    "else:\n",
    "    print(\"Skaicius yra neigiamas\")"
   ]
  },
  {
   "cell_type": "code",
   "execution_count": 32,
   "metadata": {},
   "outputs": [
    {
     "name": "stdout",
     "output_type": "stream",
     "text": [
      "Skaicius yra tarp 5 ir 10\n"
     ]
    }
   ],
   "source": [
    "a = int(input(\"Iveskite skaiciu: \"))\n",
    "if a >= 5 and a <= 10:\n",
    "    print(\"Skaicius yra tarp 5 ir 10\")\n",
    "else:\n",
    "    print(\"Skaicius nera tarp 5 ir 10\")"
   ]
  },
  {
   "cell_type": "code",
   "execution_count": 36,
   "metadata": {},
   "outputs": [
    {
     "name": "stdout",
     "output_type": "stream",
     "text": [
      "Bent vienas skaicius yra neigiamas arba lygus 0\n"
     ]
    }
   ],
   "source": [
    "a = int(input(\"Iveskite skaiciu: \"))\n",
    "b = int(input(\"Iveskite skaiciu: \"))\n",
    "if a > 0 and b > 0:\n",
    "    print(\"Abu skaiciai yra didesni nei 0\")\n",
    "else:\n",
    "    print(\"Bent vienas skaicius yra neigiamas arba lygus 0\")"
   ]
  },
  {
   "cell_type": "code",
   "execution_count": 1,
   "metadata": {},
   "outputs": [
    {
     "name": "stdout",
     "output_type": "stream",
     "text": [
      "Abu skaičiai yra nelyginiai\n"
     ]
    }
   ],
   "source": [
    "# Paprašome vartotojo įvesti du skaičius\n",
    "a = int(input(\"Įveskite pirmą skaičių: \"))\n",
    "b = int(input(\"Įveskite antrą skaičių: \"))\n",
    "\n",
    "# Patikriname, ar bent vienas skaičius yra lyginis\n",
    "if a % 2 == 0 or b % 2 == 0:\n",
    "    print(\"Bent vienas skaičius yra lyginis\")\n",
    "else:\n",
    "    print(\"Abu skaičiai yra nelyginiai\")"
   ]
  }
 ],
 "metadata": {
  "kernelspec": {
   "display_name": "venv",
   "language": "python",
   "name": "python3"
  },
  "language_info": {
   "codemirror_mode": {
    "name": "ipython",
    "version": 3
   },
   "file_extension": ".py",
   "mimetype": "text/x-python",
   "name": "python",
   "nbconvert_exporter": "python",
   "pygments_lexer": "ipython3",
   "version": "3.11.3"
  },
  "orig_nbformat": 4
 },
 "nbformat": 4,
 "nbformat_minor": 2
}
