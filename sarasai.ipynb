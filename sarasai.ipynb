{
 "cells": [
  {
   "cell_type": "code",
   "execution_count": null,
   "metadata": {},
   "outputs": [],
   "source": [
    "#Python leidžia sukurti sąrašus naudojant laužtinius skliaustus [ ]. \n",
    "#Sąrašo elementus atskiriame kableliais ,. Pvz.:\n",
    "\n",
    "tuscias_sarasas = []\n",
    "skaiciu_sarasas = [1, 2, 3, 4, 5]\n",
    "zodziu_sarasas = ['obuolys', 'kriaušė', 'bananas']\n",
    "misrus_sarasas = ['obuolys', 2, 1.4, 'kriaušė', True, 'bananas']\n",
    "\n",
    "#Sąrašą taip pat galima sukurti naudojant list() funkciją ir perduodant jai elementus. Pvz.:\n",
    "\n",
    "tuscias_sarasas = list()"
   ]
  },
  {
   "cell_type": "code",
   "execution_count": null,
   "metadata": {},
   "outputs": [],
   "source": [
    "#Sąrašų elementai yra numeruojami nuo nulio. Kad galėtumėte pasiekti sąrašo elementus, \n",
    "#tiesiog naudokite indeksavimą laužtiniuose skliaustuose. Pvz.:\n",
    "\n",
    "sarasas = ['obuolys', 'kriaušė', 'bananas']\n",
    "print(sarasas[0])   # obuolys\n",
    "print(sarasas[1])   # kriaušė\n",
    "print(sarasas[2])   # bananas\n",
    "\n",
    "sarasas = ['obuolys', 'kriaušė', 'bananas', 'apelsinas', 'persimonas']\n",
    "print(sarasas[:3])    # ['obuolys', 'kriaušė', 'bananas']\n",
    "print(sarasas[2:])    # ['bananas', 'apelsinas', 'persimonas']\n",
    "print(sarasas[1:4])   # ['kriaušė', 'bananas', 'apelsinas']\n",
    "print(sarasas[-3:])   # ['bananas', 'apelsinas', 'persimonas']"
   ]
  },
  {
   "cell_type": "code",
   "execution_count": null,
   "metadata": {},
   "outputs": [],
   "source": [
    "#Be to, galite nurodyti trečiąjį argumentą, kuris nurodo žingsnio dydį. \n",
    "#Žingsnio dydis nurodo, kiek elementų yra praleidžiami tarp kiekvieno pasirinkto elemento. \n",
    "#Šiuo atveju žingsnio dydis yra 2, todėl iš sąrašo išgaunami kas antras elementas, \n",
    "#pradedant nuo pradinio indekso:\n",
    "\n",
    "sarasas = ['obuolys', 'kriaušė', 'bananas', 'apelsinas', 'persimonas']\n",
    "print(sarasas[::2])   # ['obuolys', 'bananas', 'persimonas']"
   ]
  },
  {
   "cell_type": "code",
   "execution_count": null,
   "metadata": {},
   "outputs": [],
   "source": [
    "#Sąrašo elementus galima keisti priskiriant naują reikšmę konkrečiam indeksui. Pvz.:\n",
    "\n",
    "sarasas = ['obuolys', 'kriaušė', 'bananas']\n",
    "sarasas[1] = 'avokadas'\n",
    "print(sarasas)   # ['obuolys', 'avokadas', 'bananas']\n",
    "\n",
    "#Taip pat galima keisti daugiau nei vieną elementą vienu metu, naudojant dalijimą. Pvz.:\n",
    "\n",
    "sarasas = ['obuolys', 'kriaušė', 'bananas', 'apelsinas', 'persimonas']\n",
    "sarasas[1:4] = ['ananasas', 'mangas']\n",
    "print(sarasas)   # ['obuolys', 'ananasas', 'mangas', 'persimonas']"
   ]
  },
  {
   "cell_type": "code",
   "execution_count": null,
   "metadata": {},
   "outputs": [],
   "source": [
    "#append() metodas naudojamas pridėti vieną elementą į sąrašą. Šis metodas prideda elementą sąrašo pabaigoje.\n",
    "\n",
    "sarasas = [1, 2, 3]\n",
    "sarasas.append(4)\n",
    "print(sarasas) # [1, 2, 3, 4]\n",
    "\n",
    "#extend() metodas naudojamas pridėti daugiau nei vieną elementą į sąrašą. \n",
    "#Šis metodas priima kito sąrašo elementus ir prideda juos į pabaigą.\n",
    "\n",
    "sarasas1 = [1, 2, 3]\n",
    "sarasas2 = [4, 5, 6]\n",
    "sarasas1.extend(sarasas2)\n",
    "print(sarasas1) # [1, 2, 3, 4, 5, 6]\n",
    "\n",
    "#insert() metodas naudojamas įterpti naują elementą į sąrašą norimoje vietoje. \n",
    "#Pirmasis argumentas yra indeksas, kuriame norite įterpti elementą, \n",
    "#o antrasis argumentas yra elementas, kurį norite įterpti.\n",
    "\n",
    "sarasas = [1, 2, 3]\n",
    "sarasas.insert(1, 4)\n",
    "print(sarasas) # [1, 4, 2, 3]\n",
    "\n",
    "#remove() metodas naudojamas pašalinti elementą iš sąrašo. Jis pašalina pirmą pasirinktą elementą, jei jis yra tame sąraše.\n",
    "\n",
    "sarasas = [1, 2, 3, 4]\n",
    "sarasas.remove(3)\n",
    "print(sarasas) # [1, 2, 4]\n",
    "\n",
    "#pop() metodas naudojamas pašalinti elementą iš sąrašo pagal jo indeksą. \n",
    "#Jis pašalina elementą ir grąžina jį kaip rezultatą. Jei jis nenurodytas, pop() pašalina paskutinį elementą.\n",
    "\n",
    "sarasas = [1, 2, 3, 4]\n",
    "paskutinis_elementas = sarasas.pop()\n",
    "print(paskutinis_elementas) # 4\n",
    "pirmas_elementas = sarasas.pop(0)\n",
    "print(pirmas_elementas) # 1\n",
    "print(sarasas) # [2, 3]\n",
    "\n",
    "#index() metodas naudojamas rasti indeksą, kuriame yra pasirinktas elementas.\n",
    "\n",
    "sarasas = [1, 2, 3, 4]\n",
    "indeksas = sarasas.index(3)\n",
    "print(indeksas) # 2\n",
    "\n",
    "#count() metodas grąžina kiek kartų tam tikra reikšmė pasikartoja sąraše. \n",
    "#Šis metodas priima vieną argumentą - reikšmę, kurią norite patikrinti.\n",
    "\n",
    "sarasas = [1, 2, 2, 3, 4]\n",
    "kiekis = sarasas.count(2)\n",
    "print(kiekis) # 2\n",
    "\n",
    "#sort() metodas surikiuoja sąrašą didėjimo tvarka (nuo mažiausios iki didžiausios reikšmės).\n",
    "\n",
    "sarasas = [3, 1, 4, 1, 5, 9, 2, 6, 5]\n",
    "sarasas.sort()\n",
    "print(sarasas)  # [1, 1, 2, 3, 4, 5, 5, 6, 9]\n",
    "\n",
    "#Jei norime rikiuoti sąrašą atvirkštine tvarka, turime nurodyti argumentą reverse=True.\n",
    "\n",
    "sarasas = [3, 1, 4, 1, 5, 9, 2, 6, 5]\n",
    "sarasas.sort(reverse=True)\n",
    "print(sarasas)  # [9, 6, 5, 5, 4, 3, 2, 1, 1]\n",
    "\n",
    "#reverse() metodas atvirkštine tvarka išdėsto sąrašo elementus.\n",
    "\n",
    "sarasas = [1, 2, 3, 6, 7, 4, 5]\n",
    "sarasas.reverse()\n",
    "print(sarasas)  # [5, 4, 7, 6, 3, 2, 1]\n"
   ]
  },
  {
   "cell_type": "code",
   "execution_count": null,
   "metadata": {},
   "outputs": [],
   "source": [
    "#len() grąžina sąrašo elementų skaičių. Tai yra naudinga, kai norime sužinoti, kiek elementų yra sąraše.\n",
    "\n",
    "sarasas = [1, 2, 3, 4, 5]\n",
    "print(len(sarasas)) # 5"
   ]
  },
  {
   "cell_type": "code",
   "execution_count": null,
   "metadata": {},
   "outputs": [],
   "source": [
    "#Norint patikrinti, ar elementas yra sąraše, galima naudoti in raktinį žodį. \n",
    "#Šis žodis patikrina, ar elementas yra sąraše, ir grąžina True, jei taip, ir False, jei ne.\n",
    "\n",
    "sarasas = ['obuolys', 'bananas', 'kriause']\n",
    "print('obuolys' in sarasas) # True\n",
    "print('melionas' in sarasas) # False"
   ]
  }
 ],
 "metadata": {
  "kernelspec": {
   "display_name": "venv",
   "language": "python",
   "name": "python3"
  },
  "language_info": {
   "name": "python",
   "version": "3.11.3"
  },
  "orig_nbformat": 4
 },
 "nbformat": 4,
 "nbformat_minor": 2
}
