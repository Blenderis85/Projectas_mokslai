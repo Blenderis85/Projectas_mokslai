{
 "cells": [
  {
   "cell_type": "code",
   "execution_count": null,
   "metadata": {},
   "outputs": [],
   "source": [
    "try:\n",
    "    x = int(input(\"Įveskite pirmąjį skaičių: \"))\n",
    "    y = int(input(\"Įveskite antrąjį skaičių: \"))\n",
    "    rezultatas = x / y\n",
    "    print(\"Rezultatas:\", rezultatas)\n",
    "except ValueError:\n",
    "    print(\"Įvestas neteisingas skaičius\")\n",
    "except ZeroDivisionError:\n",
    "    print(\"Negalima dalinti iš nulio\")"
   ]
  },
  {
   "cell_type": "code",
   "execution_count": 1,
   "metadata": {},
   "outputs": [
    {
     "name": "stdout",
     "output_type": "stream",
     "text": [
      "Klaida: could not convert string to float: ''\n",
      "Klaida: Įvestas skaičius yra neigiamas\n",
      "Klaida: Įvestas skaičius yra neigiamas\n",
      "Klaida: Įvestas skaičius yra neigiamas\n",
      "Ačiū, jūs įvedėte: 20.0\n"
     ]
    }
   ],
   "source": [
    "while True:\n",
    "    try:\n",
    "        skaicius = float(input(\"Įveskite teigiamą skaičių: \"))\n",
    "        if skaicius <= 0:\n",
    "            raise ValueError(\"Įvestas skaičius yra neigiamas\")\n",
    "        else:\n",
    "            print(\"Ačiū, jūs įvedėte:\", skaicius)\n",
    "            break\n",
    "    except ValueError as error:\n",
    "        print(\"Klaida:\", error)"
   ]
  }
 ],
 "metadata": {
  "kernelspec": {
   "display_name": "venv",
   "language": "python",
   "name": "python3"
  },
  "language_info": {
   "codemirror_mode": {
    "name": "ipython",
    "version": 3
   },
   "file_extension": ".py",
   "mimetype": "text/x-python",
   "name": "python",
   "nbconvert_exporter": "python",
   "pygments_lexer": "ipython3",
   "version": "3.11.3"
  },
  "orig_nbformat": 4
 },
 "nbformat": 4,
 "nbformat_minor": 2
}
