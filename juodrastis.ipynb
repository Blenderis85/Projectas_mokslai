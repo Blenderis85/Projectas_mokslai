{
 "cells": [
  {
   "cell_type": "code",
   "execution_count": null,
   "metadata": {},
   "outputs": [],
   "source": [
    "print(\"Hello, world!\")"
   ]
  },
  {
   "cell_type": "code",
   "execution_count": null,
   "metadata": {},
   "outputs": [],
   "source": [
    "# User's name\n",
    "name = input(\"What's your name? \")\n",
    "name = name.capitalize()\n",
    "print(f\"Hello, {name}\")"
   ]
  },
  {
   "cell_type": "code",
   "execution_count": null,
   "metadata": {},
   "outputs": [],
   "source": [
    "# Split user's name into name and last name\n",
    "name = input(\"What's your name? \")\n",
    "name = name.title()\n",
    "first, last = name.split()\n",
    "print(f\"My last name is {last}\")"
   ]
  },
  {
   "cell_type": "code",
   "execution_count": null,
   "metadata": {},
   "outputs": [],
   "source": [
    "x = int(input(\"What's x? \"))\n",
    "y = int(input(\"What's y? \"))\n",
    "\n",
    "print(x + y)"
   ]
  },
  {
   "cell_type": "code",
   "execution_count": null,
   "metadata": {},
   "outputs": [],
   "source": [
    "x = float(input(\"What's x? \"))\n",
    "y = float(input(\"What's y? \"))\n",
    "\n",
    "z = round(x + y)\n",
    "\n",
    "print(f\"{z:,}\") # Kas tukstanti, sudeda kablelius.\n"
   ]
  },
  {
   "cell_type": "code",
   "execution_count": null,
   "metadata": {},
   "outputs": [],
   "source": [
    "x = float(input(\"What's x? \"))\n",
    "y = float(input(\"What's y? \"))\n",
    "\n",
    "z = x / y\n",
    "\n",
    "print(f\"{z:.2f}\")"
   ]
  },
  {
   "cell_type": "code",
   "execution_count": null,
   "metadata": {},
   "outputs": [],
   "source": [
    "def main():\n",
    "    name = input(\"What's your name? \")\n",
    "    hello(name)\n",
    "\n",
    "def hello(to=\"world!\"):\n",
    "    print(\"Hello,\", to)\n",
    "\n",
    "main()"
   ]
  },
  {
   "cell_type": "code",
   "execution_count": null,
   "metadata": {},
   "outputs": [],
   "source": [
    "def main ():\n",
    "    x = int(input(\"What's x? \"))\n",
    "    print(\"x squared is\", square(x))\n",
    "\n",
    "def square(n):\n",
    "    return n * n\n",
    "\n",
    "main()"
   ]
  },
  {
   "cell_type": "code",
   "execution_count": null,
   "metadata": {},
   "outputs": [],
   "source": [
    "score = int(input(\"Score: \"))\n",
    "\n",
    "if score >= 90:\n",
    "    print(\"Grade: A\")\n",
    "elif score >= 80:\n",
    "    print(\"Grade: B\")\n",
    "elif score >= 70:\n",
    "    print(\"Grade: C\")\n",
    "elif score >= 60:\n",
    "    print(\"Grade: D\")\n",
    "else:\n",
    "    print(\"Grade: F\")"
   ]
  },
  {
   "cell_type": "code",
   "execution_count": null,
   "metadata": {},
   "outputs": [],
   "source": [
    "x = int(input(\"What's x? \"))\n",
    "\n",
    "if x % 2 == 0:\n",
    "    print(\"Even\")\n",
    "else:\n",
    "    print(\"Odd\")"
   ]
  },
  {
   "cell_type": "code",
   "execution_count": null,
   "metadata": {},
   "outputs": [],
   "source": [
    "def main():\n",
    "    x = int(input(\"What's x? \"))\n",
    "    if x % 2 == 0:\n",
    "        print(\"Even\")\n",
    "    else:\n",
    "        print(\"Odd\")\n",
    "\n",
    "main()"
   ]
  },
  {
   "cell_type": "code",
   "execution_count": null,
   "metadata": {},
   "outputs": [],
   "source": [
    "i = 3\n",
    "\n",
    "while i != 0:\n",
    "    print(\"meow\")\n",
    "    i = i - 1"
   ]
  },
  {
   "cell_type": "code",
   "execution_count": null,
   "metadata": {},
   "outputs": [],
   "source": [
    "for i in [0, 1, 2]:\n",
    "    print(\"meow\")"
   ]
  },
  {
   "cell_type": "code",
   "execution_count": null,
   "metadata": {},
   "outputs": [],
   "source": [
    "for i in range(3):\n",
    "    print(\"meow\")"
   ]
  },
  {
   "cell_type": "code",
   "execution_count": null,
   "metadata": {},
   "outputs": [],
   "source": [
    "print(\"meow\\n\" * 3, end=\"\")"
   ]
  },
  {
   "cell_type": "code",
   "execution_count": null,
   "metadata": {},
   "outputs": [],
   "source": [
    "# Testi, jei ivestas neigiamas skaicius\n",
    "while True:\n",
    "    n = int(input(\"What's n? \"))\n",
    "    if n > 0:\n",
    "        break\n",
    "\n",
    "for i in range(n):\n",
    "    print(\"meow\")"
   ]
  },
  {
   "cell_type": "code",
   "execution_count": null,
   "metadata": {},
   "outputs": [],
   "source": [
    "n = int(input(\"What's n? \"))\n",
    "\n",
    "for i in range(n):\n",
    "    print(\"meow\")"
   ]
  },
  {
   "cell_type": "code",
   "execution_count": null,
   "metadata": {},
   "outputs": [],
   "source": [
    "def main():\n",
    "    number = get_number()\n",
    "    meow(number)\n",
    "\n",
    "\n",
    "def get_number():\n",
    "    while True:\n",
    "        n = int(input(\"What's n? \"))\n",
    "        if n > 0:\n",
    "            break\n",
    "    return n\n",
    "\n",
    "\n",
    "def meow(n):\n",
    "    for i in range(n):\n",
    "        print(\"meow\")\n",
    "\n",
    "\n",
    "main()"
   ]
  },
  {
   "cell_type": "code",
   "execution_count": null,
   "metadata": {},
   "outputs": [],
   "source": [
    "students = [\"Hermione\", \"Harry\", \"Ron\"]\n",
    "\n",
    "for i in range(len(students)):\n",
    "    print(i + 1, students[i])"
   ]
  },
  {
   "cell_type": "code",
   "execution_count": null,
   "metadata": {},
   "outputs": [],
   "source": [
    "students = {\n",
    "    \"Hermione\": \"Gryffindor\",\n",
    "    \"Harry\": \"Gryffindor\",\n",
    "    \"Ron\": \"Gryffindor\",\n",
    "    \"Draco\": \"Slytherin\",\n",
    "}\n",
    "\n",
    "for student in students:\n",
    "    print(student, students[student], sep=\"_\")"
   ]
  },
  {
   "cell_type": "code",
   "execution_count": null,
   "metadata": {},
   "outputs": [],
   "source": [
    "students = [\n",
    "{\"name\": \"Hermione\", \"house\": \"Gryffindor\", \"patronus\": \"Otter\"},\n",
    "{\"name\": \"Harry\", \"house\": \"Gryffindor\", \"patronus\": \"Stag\"},\n",
    "{\"name\": \"Ron\", \"house\": \"Gryffindor\", \"patronus\": \"Jack Russell terrier\"},\n",
    "{\"name\": \"Draco\", \"house\": \"Slytherin\", \"patronus\": None}\n",
    "\n",
    "]\n",
    "\n",
    "for student in students:\n",
    "    print(student[\"name\"])"
   ]
  },
  {
   "cell_type": "code",
   "execution_count": null,
   "metadata": {},
   "outputs": [],
   "source": [
    "def main():\n",
    "    print_square(3)\n",
    "\n",
    "\n",
    "def print_square(size):\n",
    "    for i in range(size):\n",
    "        for j in range(size):\n",
    "            print(\"#\", end=\"\")\n",
    "        print()\n",
    "\n",
    "\n",
    "main()"
   ]
  },
  {
   "cell_type": "code",
   "execution_count": null,
   "metadata": {},
   "outputs": [],
   "source": [
    "try:\n",
    "    x = int(input(\"What's x? \"))\n",
    "    print(f\"x is {x}\")\n",
    "except ValueError:\n",
    "    print(\"x is not an integer\")"
   ]
  },
  {
   "cell_type": "code",
   "execution_count": null,
   "metadata": {},
   "outputs": [],
   "source": [
    "import random\n",
    "\n",
    "coin = random.choice([\"Heads\", \"Tails\"])\n",
    "\n",
    "print(coin)"
   ]
  },
  {
   "cell_type": "code",
   "execution_count": null,
   "metadata": {},
   "outputs": [],
   "source": [
    "from random import choice\n",
    "\n",
    "coin = choice([\"Heads\", \"Tails\"])\n",
    "\n",
    "print(coin)"
   ]
  },
  {
   "cell_type": "code",
   "execution_count": null,
   "metadata": {},
   "outputs": [],
   "source": [
    "import random\n",
    "\n",
    "number = random.randint(1, 10)\n",
    "\n",
    "print(number)"
   ]
  },
  {
   "cell_type": "code",
   "execution_count": null,
   "metadata": {},
   "outputs": [],
   "source": [
    "import random\n",
    "\n",
    "cards = [\"jack\", \"queen\", \"king\"]\n",
    "\n",
    "random.shuffle(cards)\n",
    "\n",
    "for card in cards:\n",
    "    print(card)"
   ]
  },
  {
   "cell_type": "code",
   "execution_count": 14,
   "metadata": {},
   "outputs": [
    {
     "name": "stdout",
     "output_type": "stream",
     "text": [
      "95\n"
     ]
    }
   ],
   "source": [
    "import statistics\n",
    "\n",
    "print(statistics.mean([100, 90]))"
   ]
  }
 ],
 "metadata": {
  "kernelspec": {
   "display_name": "venv",
   "language": "python",
   "name": "python3"
  },
  "language_info": {
   "codemirror_mode": {
    "name": "ipython",
    "version": 3
   },
   "file_extension": ".py",
   "mimetype": "text/x-python",
   "name": "python",
   "nbconvert_exporter": "python",
   "pygments_lexer": "ipython3",
   "version": "3.11.3"
  },
  "orig_nbformat": 4
 },
 "nbformat": 4,
 "nbformat_minor": 2
}
