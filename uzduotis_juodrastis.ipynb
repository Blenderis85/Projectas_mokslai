{
 "cells": [
  {
   "cell_type": "code",
   "execution_count": 15,
   "metadata": {},
   "outputs": [
    {
     "name": "stdout",
     "output_type": "stream",
     "text": [
      "Sveiki atvyk i internetine parduotuve!\n",
      "=== MENU ===\n",
      "1 - Mesa 🥩\n",
      "2 - Miltai 🥐\n",
      "3 - Darzoves 🥕\n",
      "Issirinkite kokia mesa: (1-3)\n",
      "1 - kiauliena {'Produkto_pavadinimas': 'kiauliena', 'Kaina': 12.99, 'Kcal': 220, 'Galiojimo laikas': '2023-04-27'}\n",
      "2 - jautiena {'Produkto_pavadinimas': 'jautiena', 'Kaina': 15.99, 'Kcal': 250, 'Galiojimo laikas': '2023-04-30'}\n",
      "3 - vistiena {'Produkto_pavadinimas': 'vistiena', 'Kaina': 10.99, 'Kcal': 200, 'Galiojimo laikas': '2023-04-25'}\n",
      "Krepselis:  {'Produkto_pavadinimas': 'vistiena', 'Kaina': 10.99, 'Kcal': 200, 'Galiojimo laikas': '2023-04-25'}\n"
     ]
    }
   ],
   "source": [
    "## Internetine parduotuve\n",
    "\n",
    "print(\"Sveiki atvyke i internetine parduotuve!\")\n",
    "print(\"=== MENU ===\")\n",
    "print(\"1 - \" + \"Mesa\", \"🥩\" )\n",
    "print(\"2 - \" + \"Miltai\", \"🥐\")\n",
    "print(\"3 - \" + \"Darzoves\", \"🥕\")\n",
    "\n",
    "mesa = [\"kiauliena\", \"jautiena\", \"vistiena\"]\n",
    "\n",
    "kiauliena = {\"Produkto_pavadinimas\": \"kiauliena\", \"Kaina\": 12.99, \"Kcal\": 220, \"Galiojimo laikas\": \"2023-04-27\"}\n",
    "jautiena = {\"Produkto_pavadinimas\": \"jautiena\", \"Kaina\": 15.99, \"Kcal\": 250, \"Galiojimo laikas\": \"2023-04-30\"}\n",
    "vistiena = {\"Produkto_pavadinimas\": \"vistiena\", \"Kaina\": 10.99, \"Kcal\": 200, \"Galiojimo laikas\": \"2023-04-25\"}\n",
    "\n",
    "choice = input(\"Iveskite savo pasirinkima (1-3): \") ## Rinktis: 1\n",
    "if choice == '1':\n",
    "    print(\"Issirinkite kokia mesa: (1-3)\") ## Rinktis: 1-3\n",
    "    print(\"1 -\", mesa[0], kiauliena)\n",
    "    print(\"2 -\", mesa[1], jautiena)\n",
    "    print(\"3 -\", mesa[2], vistiena)\n",
    "choice = input()\n",
    "if choice == '1':\n",
    "    print(\"Krepselis: \", kiauliena)\n",
    "elif choice == '2':\n",
    "    print(\"Krepselis: \", jautiena)\n",
    "elif choice == '3':\n",
    "    print(\"Krepselis: \", vistiena)"
   ]
  }
 ],
 "metadata": {
  "kernelspec": {
   "display_name": "venv",
   "language": "python",
   "name": "python3"
  },
  "language_info": {
   "codemirror_mode": {
    "name": "ipython",
    "version": 3
   },
   "file_extension": ".py",
   "mimetype": "text/x-python",
   "name": "python",
   "nbconvert_exporter": "python",
   "pygments_lexer": "ipython3",
   "version": "3.11.3"
  },
  "orig_nbformat": 4
 },
 "nbformat": 4,
 "nbformat_minor": 2
}
