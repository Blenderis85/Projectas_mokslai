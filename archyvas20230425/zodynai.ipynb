{
 "cells": [
  {
   "cell_type": "code",
   "execution_count": null,
   "metadata": {},
   "outputs": [],
   "source": [
    "#Žodynus galima sukurti naudojant riestinius skliaustus {}. \n",
    "#Kiekvienas raktas ir reikšmė yra atskirti dvitaškiais, \n",
    "#o kelių raktų/reikšmių kombinacijos atskiriamos kableliais. Pvz.:\n",
    "\n",
    "zodynas = {'raktas1': 'reiksme1', 'raktas2': 'reiksme2'}\n",
    "print(zodynas) # {'raktas1': 'reiksme1', 'raktas2': 'reiksme2'}"
   ]
  },
  {
   "cell_type": "code",
   "execution_count": null,
   "metadata": {},
   "outputs": [],
   "source": [
    "#Norint pasiekti konkretų žodyno įrašą, reikia tiesiog nurodyti raktą laužtiniuose skliaustuose:\n",
    "\n",
    "zmones = {'Jonas': 24, 'Petras': 32}\n",
    "print(zmones['Petras']) # 32\n",
    "print(zmones['Jonas']) # 24"
   ]
  },
  {
   "cell_type": "code",
   "execution_count": null,
   "metadata": {},
   "outputs": [],
   "source": [
    "#Žodyno įrašo pridėjimui galima naudoti paprastą priskyrimo operatorių =, \n",
    "#raktą nurodant po žodyno kintamojo pavadinimo laužtiniuose skliaustuose. Pvz.:\n",
    "\n",
    "zmones = {'Jonas': 24, 'Petras': 32}\n",
    "zmones['Ona'] = 28\n",
    "print(zmones) # {'Jonas': 24, 'Petras': 32, 'Ona': 28}"
   ]
  },
  {
   "cell_type": "code",
   "execution_count": null,
   "metadata": {},
   "outputs": [],
   "source": [
    "#Norint pakeisti žodyno įrašą, reikia prie žodyno kintamojo pavadinimo \n",
    "#laužtiniuose skliaustuose nurodyti jau esamą raktą ir priskirti naują reikšmę:\n",
    "\n",
    "zmones = {'Jonas': 24, 'Petras': 32, 'Ona': 28}\n",
    "zmones['Petras'] = 33\n",
    "print(zmones) # {'Jonas': 24, 'Petras': 33, 'Ona': 28}"
   ]
  },
  {
   "cell_type": "code",
   "execution_count": null,
   "metadata": {},
   "outputs": [],
   "source": [
    "#Norint ištrinti žodyno įrašą, reikia naudoti del komandą prieš žodyno kintamąjį su raktu laužtiniuose skliaustuose, \n",
    "#kurio reikšmės norime ištrinti iš žodyno.\n",
    "\n",
    "zmones = {'Jonas': 24, 'Petras': 32, 'Ona': 28}\n",
    "del zmones['Ona']\n",
    "print(zmones) # {'Jonas': 24, 'Petras': 32}"
   ]
  },
  {
   "cell_type": "code",
   "execution_count": null,
   "metadata": {},
   "outputs": [],
   "source": [
    "#Žodynų metodai leidžia atlikti veiksmus su žodynu ir manipuliuoti jo turiniu. Štai keletas dažniausiai naudojamų metodų:\n",
    "\n",
    "#.keys() grąžina visus žodyno raktažodžius.\n",
    "\n",
    "zodynas = {'Jonas': 24, 'Petras': 32, 'Ona': 28}\n",
    "raktažodžiai = zodynas.keys()\n",
    "print(raktažodžiai) # dict_keys(['Jonas', 'Petras', 'Ona'])\n",
    "\n",
    "#.values() grąžina visas žodyno reikšmes.\n",
    "\n",
    "zodynas = {'Jonas': 24, 'Petras': 32, 'Ona': 28}\n",
    "reiksmes = zodynas.values()\n",
    "print(reiksmes) # dict_values([24, 32, 28])\n",
    "\n",
    "#.items() grąžina visus žodyno raktažodžių ir reikšmių porų sąrašą.\n",
    "\n",
    "zodynas = {'Jonas': 24, 'Petras': 32, 'Ona': 28}\n",
    "poros = zodynas.items()\n",
    "print(poros) # dict_items([('Jonas', 24), ('Petras', 32), ('Ona', 28)])\n",
    "\n",
    "#.get() grąžina reikšmę, atitinkančią nurodytą raktą. Jei raktas nerastas, grąžina numatytąją reikšmę (nurodoma atskiru argumentu) arba None.\n",
    "\n",
    "zodynas = {'Jonas': 24, 'Petras': 32, 'Ona': 28}\n",
    "reiksme = zodynas.get('Jonas')\n",
    "print(reiksme) # 24\n",
    "print(zodynas.get('Juozas', 0)) # 0\n",
    "print(zodynas.get('Juozas')) # None\n",
    "\n",
    "#pop() pašalina ir grąžina reikšmę, atitinkančią nurodytą raktą. Jei raktas nerastas, grąžina numatytąją reikšmę (nurodoma atskiru argumentu) arba išmeta klaidą.\n",
    "\n",
    "zodynas = {'Jonas': 24, 'Petras': 32, 'Ona': 28}\n",
    "reiksme = zodynas.pop('Petras')\n",
    "print(reiksme) # 32\n",
    "nerasta = zodynas.pop('Juozas', 0) \n",
    "print(nerasta) # 0\n",
    "print(zodynas) # {'Jonas': 24, 'Ona': 28}\n",
    "\n",
    "#clear() išvalo žodyno turinį.\n",
    "\n",
    "zodynas = {'Jonas': 24, 'Petras': 32, 'Ona': 28}\n",
    "zodynas.clear()\n",
    "print(zodynas) # {}"
   ]
  }
 ],
 "metadata": {
  "kernelspec": {
   "display_name": "venv",
   "language": "python",
   "name": "python3"
  },
  "language_info": {
   "name": "python",
   "version": "3.11.3"
  },
  "orig_nbformat": 4
 },
 "nbformat": 4,
 "nbformat_minor": 2
}
