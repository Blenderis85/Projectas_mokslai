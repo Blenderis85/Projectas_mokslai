{
 "cells": [
  {
   "cell_type": "code",
   "execution_count": 1,
   "metadata": {},
   "outputs": [
    {
     "name": "stdout",
     "output_type": "stream",
     "text": [
      "1\n",
      "2\n",
      "3\n",
      "4\n",
      "5\n"
     ]
    }
   ],
   "source": [
    "## Ciklas su sąrašu\n",
    "## Pavyzdžiui, jei turime sąrašą skaičių ir norime atspausdinti kiekvieną skaičių, \n",
    "## galime naudoti for ciklą kaip parodyta žemiau:\n",
    "\n",
    "skaiciai = [1, 2, 3, 4, 5]\n",
    "\n",
    "for skaicius in skaiciai:\n",
    "    print(skaicius)"
   ]
  },
  {
   "cell_type": "code",
   "execution_count": null,
   "metadata": {},
   "outputs": [],
   "source": [
    "## Taip pat galima susumuoti visas sąrašo reiškmes:\n",
    "\n",
    "skaiciai = [2, 6, 7, 9, 41, 4, 46, 789]\n",
    "\n",
    "skaiciu_suma = 0\n",
    "\n",
    "for skaicius in skaiciai:\n",
    "    skaiciu_suma += skaicius\n",
    "\n",
    "print(skaiciu_suma) # 904"
   ]
  },
  {
   "cell_type": "code",
   "execution_count": 2,
   "metadata": {},
   "outputs": [
    {
     "name": "stdout",
     "output_type": "stream",
     "text": [
      "Rokas\n",
      "Andrius\n",
      "Laura\n"
     ]
    }
   ],
   "source": [
    "## for ciklas su žodynu\n",
    "## Taip pat galime naudoti for ciklą su žodynu. Yra keli variantai kaip tai galima padaryti.\n",
    "## Šis ciklas iteruos per žodyno raktus (keys) ir grąžins kiekvieną raktą atskirai. Pvz.:\n",
    "\n",
    "amzius = {'Rokas': 20, 'Andrius': 34, 'Laura': 25}\n",
    "\n",
    "for irasas in amzius:\n",
    "    print(irasas)"
   ]
  },
  {
   "cell_type": "code",
   "execution_count": 3,
   "metadata": {},
   "outputs": [
    {
     "name": "stdout",
     "output_type": "stream",
     "text": [
      "20\n",
      "34\n",
      "25\n"
     ]
    }
   ],
   "source": [
    "## Cikle galime naudoti žodyno metodą .values(), tada ciklas iteruos per žodyno \n",
    "## reikšmes (values) ir grąžins kiekvieną reikšmę atskirai. Pvz.:\n",
    "\n",
    "amzius = {'Rokas': 20, 'Andrius': 34, 'Laura': 25}\n",
    "\n",
    "for irasas in amzius.values():\n",
    "    print(irasas)"
   ]
  },
  {
   "cell_type": "code",
   "execution_count": 4,
   "metadata": {},
   "outputs": [
    {
     "name": "stdout",
     "output_type": "stream",
     "text": [
      "Rokas 20\n",
      "Andrius 34\n",
      "Laura 25\n"
     ]
    }
   ],
   "source": [
    "## Kai nurodome raktą, reikšmę ir .items(), ciklas iteruos per žodyno raktus, \n",
    "## reikšmes ir grąžins kiekvieną raktą ir reikšmę atskirai. Pvz.:\n",
    "\n",
    "amzius = {'Rokas': 20, 'Andrius': 34, 'Laura': 25}\n",
    "\n",
    "for raktas, reiksme in amzius.items():\n",
    "    print(raktas, reiksme)"
   ]
  },
  {
   "cell_type": "code",
   "execution_count": 5,
   "metadata": {},
   "outputs": [
    {
     "name": "stdout",
     "output_type": "stream",
     "text": [
      "Dabar Rokas 20\n",
      "Po pakeitimo Rokas 21\n",
      "Dabar Andrius 34\n",
      "Po pakeitimo Andrius 35\n",
      "Dabar Laura 25\n",
      "Po pakeitimo Laura 26\n"
     ]
    }
   ],
   "source": [
    "## Taip pat galima kreiptis į žodyno elementus su raktu cikle. \n",
    "## Ypač rekomenduojama keičiant reiškmes:\n",
    "\n",
    "amzius = {'Rokas': 20, 'Andrius': 34, 'Laura': 25}\n",
    "\n",
    "for irasas in amzius:\n",
    "    print(\"Dabar\", irasas, amzius[irasas])\n",
    "    amzius[irasas] += 1\n",
    "    print(\"Po pakeitimo\", irasas, amzius[irasas])"
   ]
  },
  {
   "cell_type": "code",
   "execution_count": 6,
   "metadata": {},
   "outputs": [
    {
     "name": "stdout",
     "output_type": "stream",
     "text": [
      "1\n",
      "2\n",
      "3\n",
      "4\n",
      "5\n"
     ]
    }
   ],
   "source": [
    "## for ciklas su range funkcija\n",
    "## range() funkcija sugeneruoja seką skaičių nuo pradžios iki pabaigos. \n",
    "## Galime naudoti for ciklą su range funkcija, kad atliktume tam tikrus \n",
    "## veiksmus su kiekvienu skaičiumi šioje sekoje.\n",
    "\n",
    "for skaicius in range(1, 6):\n",
    "    print(skaicius)"
   ]
  },
  {
   "cell_type": "code",
   "execution_count": 7,
   "metadata": {},
   "outputs": [
    {
     "name": "stdout",
     "output_type": "stream",
     "text": [
      "1\n",
      "2\n"
     ]
    }
   ],
   "source": [
    "## Ciklas nutraukimo komanda break\n",
    "## Kai naudojame break komandą, ciklas baigiasi ir programa tęsiasi \n",
    "## nuo kito kodo bloko, kuris yra po ciklo bloko. Pvz.:\n",
    "\n",
    "skaiciai = [1, 2, 3, 4, 5]\n",
    "\n",
    "for skaicius in skaiciai:\n",
    "    if skaicius == 3:\n",
    "        break\n",
    "    print(skaicius)"
   ]
  },
  {
   "cell_type": "code",
   "execution_count": 8,
   "metadata": {},
   "outputs": [
    {
     "name": "stdout",
     "output_type": "stream",
     "text": [
      "1\n",
      "2\n",
      "4\n",
      "5\n"
     ]
    }
   ],
   "source": [
    "## Ciklo žingsnio tolimesnio vykdymo praleidimo komanda continue\n",
    "## Kai naudojame continue komandą, programa praleidžia šią iteraciją \n",
    "## ir tęsia su kitu rinkinio elementu. Pvz.:\n",
    "\n",
    "skaiciai = [1, 2, 3, 4, 5]\n",
    "\n",
    "for skaicius in skaiciai:\n",
    "    if skaicius == 3:\n",
    "        continue\n",
    "    print(skaicius)"
   ]
  },
  {
   "cell_type": "code",
   "execution_count": 9,
   "metadata": {},
   "outputs": [
    {
     "name": "stdout",
     "output_type": "stream",
     "text": [
      "1\n",
      "2\n",
      "3\n",
      "4\n",
      "5\n",
      "Ciklo vykdymas baigtas.\n"
     ]
    }
   ],
   "source": [
    "## Ciklo for pabaigos else blokas\n",
    "## else blokas yra naudojamas norint atlikti tam tikrus veiksmus, \n",
    "## kai for ciklas pasiekia savo pabaigą.\n",
    "## Jeigu ciklas buvo nutrauktas su break komanda, else sąlygos blokas nebus vykdomas.\n",
    "\n",
    "skaiciai = [1, 2, 3, 4, 5]\n",
    "\n",
    "for skaicius in skaiciai:\n",
    "    print(skaicius)\n",
    "else:\n",
    "    print('Ciklo vykdymas baigtas.')"
   ]
  },
  {
   "cell_type": "code",
   "execution_count": 10,
   "metadata": {},
   "outputs": [
    {
     "name": "stdout",
     "output_type": "stream",
     "text": [
      "0 a\n",
      "1 b\n",
      "2 c\n",
      "3 d\n",
      "4 e\n"
     ]
    }
   ],
   "source": [
    "## Sąrašų iteravimas su indeksu\n",
    "## enumerate() funkcija naudojama kartu su for ciklu gražina poras, \n",
    "## kurių kiekvienos poros pirmasis elementas yra elemento indeksas, \n",
    "## o antrasis - elementas paties sąrašo. Pvz.:\n",
    "\n",
    "sarasas = ['a', 'b', 'c', 'd', 'e']\n",
    "for indeksas, reiksme in enumerate(sarasas):\n",
    "    print(indeksas, reiksme)"
   ]
  },
  {
   "cell_type": "code",
   "execution_count": 11,
   "metadata": {},
   "outputs": [
    {
     "name": "stdout",
     "output_type": "stream",
     "text": [
      "mažas raudonas šikšnosparnis\n",
      "vidutinis raudonas šikšnosparnis\n",
      "didelis raudonas šikšnosparnis\n",
      "mažas geltonas šikšnosparnis\n",
      "vidutinis geltonas šikšnosparnis\n",
      "didelis geltonas šikšnosparnis\n",
      "mažas mėlynas šikšnosparnis\n",
      "vidutinis mėlynas šikšnosparnis\n",
      "didelis mėlynas šikšnosparnis\n"
     ]
    }
   ],
   "source": [
    "## Ciklas cikle\n",
    "## Ciklo cikle konstrukcija leidžia kurti ciklus, kuriuose vienas ar kelias vidiniai ciklai \n",
    "## yra vykdomi kiekvienai išorinio ciklo iteracijai. Tai ypač naudinga, \n",
    "## kai turime kokią nors duomenų struktūrą, kurią reikia išgryninti arba apdoroti sudėtingu būdu. Pvz.:\n",
    "\n",
    "spalvos = ['raudonas', 'geltonas', 'mėlynas']\n",
    "dydziai = ['mažas', 'vidutinis', 'didelis']\n",
    "\n",
    "for spalva in spalvos:\n",
    "    for dydis in dydziai:\n",
    "        print(dydis, spalva, 'šikšnosparnis')"
   ]
  },
  {
   "cell_type": "code",
   "execution_count": 12,
   "metadata": {},
   "outputs": [
    {
     "name": "stdout",
     "output_type": "stream",
     "text": [
      "1\n",
      "2\n",
      "3\n",
      "4\n",
      "5\n"
     ]
    }
   ],
   "source": [
    "## ciklai while\n",
    "## while ciklas leidžia kurti kartojamus procesus, kol nurodyta sąlyga yra teisinga.\n",
    "## Sąlyga yra logiškas reiškinys, kuris yra tikrinamas prieš kiekvieną ciklo vykdymą. \n",
    "## Jei sąlyga yra teisinga, kodo blokas tarp while ir žymės : yra vykdomas. \n",
    "## Jei sąlyga tampa neteisinga, vykdymas nutraukiamas ir programa tęsia vykdymą nuo žymės : po while ciklo. Pvz.:\n",
    "\n",
    "skaicius = 1\n",
    "while skaicius <= 5:\n",
    "    print(skaicius)\n",
    "    skaicius = skaicius + 1"
   ]
  },
  {
   "cell_type": "code",
   "execution_count": null,
   "metadata": {},
   "outputs": [],
   "source": [
    "## Begalinis ciklas (infinite loop)\n",
    "## Begalinis ciklas kartojasi be pabaigos, nes sąlyga, kurią tikrina ciklas, visada yra teisinga. \n",
    "## Tai gali būti neigiamai paveikti programos veikimą, nes begalinis ciklas gali sukelti \n",
    "## programos sustojimą ar net viso kompiuterio užstrigimą.\n",
    "## Šioje programoje while ciklas niekada nesibaigs, nes sąlyga True yra visada teisinga:\n",
    "\n",
    "while True:\n",
    "    print('Ciklas tęsiasi')\n",
    "\n",
    "# Ciklas tęsiasi\n",
    "# Ciklas tęsiasi\n",
    "# Ciklas tęsiasi\n",
    "# Ciklas tęsiasi\n",
    "# Ciklas tęsiasi\n",
    "# Ciklas tęsiasi\n",
    "# Ciklas tęsiasi\n",
    "# ...\n",
    "\n",
    "## Tam, kad išvengtumėte begalinių ciklų, turite užtikrinti, kad ciklas turėtų galutinę sąlygą, \n",
    "## kuri pasibaigs kai reikia. Pavyzdžiui, jei naudojate while ciklą, įsitikinkite, \n",
    "## kad jis yra su tiksliomis pradinio ir galutinio kintamojo reikšmėmis arba kitomis galutinėmis sąlygomis."
   ]
  },
  {
   "cell_type": "code",
   "execution_count": 13,
   "metadata": {},
   "outputs": [
    {
     "name": "stdout",
     "output_type": "stream",
     "text": [
      "1\n",
      "2\n",
      "3\n",
      "4\n"
     ]
    }
   ],
   "source": [
    "## Ciklo nutraukimas su break\n",
    "## Ciklo nutraukimas leidžianti nutraukti ciklą iki jo paprastai numatytos pabaigos. \n",
    "## Tai yra naudinga, jeigu norite nutraukti ciklą, kai įvykdoma tam tikra sąlyga \n",
    "## arba kai jūsų programa negali tinkamai veikti, jei ciklas vykdomas per ilgai.\n",
    "## Naudojant break ciklas iškart sustoja, o programa tęsia vykdymą iš kito kodo bloko, kuris seka po ciklo. Pvz.:\n",
    "\n",
    "skaicius = 0\n",
    "while skaicius < 10:\n",
    "    skaicius += 1\n",
    "    if skaicius >= 5:\n",
    "        break\n",
    "    print(skaicius) \n",
    "\n",
    "## ❗ Svarbu prisiminti, kad break yra naudojamas tik cikle, kuriame yra vykdomi tam tikri veiksmai, \n",
    "# ir kad jis turi būti naudojamas atsargiai, kad nebūtų nutrauktas per daug anksti arba per dažnai."
   ]
  },
  {
   "cell_type": "code",
   "execution_count": 14,
   "metadata": {},
   "outputs": [
    {
     "name": "stdout",
     "output_type": "stream",
     "text": [
      "1\n",
      "2\n",
      "3\n",
      "4\n",
      "6\n",
      "7\n",
      "8\n",
      "9\n",
      "10\n"
     ]
    }
   ],
   "source": [
    "## Žingsnio praleidimas su continue\n",
    "## Žingsio praleidimas leidžia praleisti dabartinę ciklo iteraciją ir tęsti kitą iteraciją. \n",
    "## Tai yra naudinga, jeigu norite praleisti ciklo žingsnį ar jo dalį, \n",
    "## kai įvykdoma tam tikra sąlyga, ir tęsti su kitu ciklo elementu. Pvz.:\n",
    "\n",
    "skaicius = 0\n",
    "while skaicius < 10:\n",
    "    skaicius += 1\n",
    "    if skaicius == 5:\n",
    "        continue\n",
    "    print(skaicius)"
   ]
  },
  {
   "cell_type": "code",
   "execution_count": null,
   "metadata": {},
   "outputs": [],
   "source": [
    "## while ciklas su else bloku\n",
    "## while ciklas gali būti naudojamas su else bloku, kuris bus vykdomas, \n",
    "## kai ciklo sąlyga tampa netiesa ir ciklas baigiasi natūraliai. \n",
    "## Tai gali būti naudinga, kai norite įvykdyti tam tikrus veiksmus tik tada, kai ciklas baigiasi. Pvz.:\n",
    "\n",
    "skaicius = 0\n",
    "while skaicius < 5:\n",
    "    print(skaicius)\n",
    "    skaicius += 1\n",
    "else:\n",
    "    print(\"Ciklas baigtas\") \n",
    "\n",
    "## ❗ Svarbu prisiminti, kad else blokas su while ciklu gali būti naudojamas tik tada, \n",
    "## kai ciklas baigiasi natūraliai, o ne kai jis yra nutraukiamas su break."
   ]
  }
 ],
 "metadata": {
  "kernelspec": {
   "display_name": "venv",
   "language": "python",
   "name": "python3"
  },
  "language_info": {
   "codemirror_mode": {
    "name": "ipython",
    "version": 3
   },
   "file_extension": ".py",
   "mimetype": "text/x-python",
   "name": "python",
   "nbconvert_exporter": "python",
   "pygments_lexer": "ipython3",
   "version": "3.11.3"
  },
  "orig_nbformat": 4
 },
 "nbformat": 4,
 "nbformat_minor": 2
}
