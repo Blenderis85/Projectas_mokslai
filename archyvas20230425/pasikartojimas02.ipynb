{
 "cells": [
  {
   "cell_type": "code",
   "execution_count": 1,
   "metadata": {},
   "outputs": [
    {
     "name": "stdout",
     "output_type": "stream",
     "text": [
      "Sveiki, pasauli!\n"
     ]
    }
   ],
   "source": [
    "print(\"Sveiki, pasauli!\")"
   ]
  },
  {
   "cell_type": "code",
   "execution_count": 5,
   "metadata": {},
   "outputs": [
    {
     "name": "stdout",
     "output_type": "stream",
     "text": [
      "10\n"
     ]
    }
   ],
   "source": [
    "x = 5\n",
    "x = 10\n",
    "print(x)"
   ]
  },
  {
   "cell_type": "code",
   "execution_count": 7,
   "metadata": {},
   "outputs": [
    {
     "name": "stdout",
     "output_type": "stream",
     "text": [
      "1 3\n"
     ]
    }
   ],
   "source": [
    "x, y, z = 1, 2, 3\n",
    "print(x, z)"
   ]
  },
  {
   "cell_type": "code",
   "execution_count": 8,
   "metadata": {},
   "outputs": [
    {
     "name": "stdout",
     "output_type": "stream",
     "text": [
      "<class 'int'>\n"
     ]
    }
   ],
   "source": [
    "x = 5\n",
    "print(type(x))"
   ]
  },
  {
   "cell_type": "code",
   "execution_count": 10,
   "metadata": {},
   "outputs": [
    {
     "name": "stdout",
     "output_type": "stream",
     "text": [
      "<class 'int'>\n",
      "<class 'str'>\n",
      "<class 'float'>\n"
     ]
    }
   ],
   "source": [
    "x = 5\n",
    "y = \"Hello, world!\"\n",
    "z = 3.14\n",
    "print(type(x))\n",
    "print(type(y))\n",
    "print(type(z))"
   ]
  },
  {
   "cell_type": "code",
   "execution_count": 11,
   "metadata": {},
   "outputs": [
    {
     "name": "stdout",
     "output_type": "stream",
     "text": [
      "<class 'complex'>\n"
     ]
    }
   ],
   "source": [
    "x = 5        # sveikasis skaičius\n",
    "y = 3.14     # slankiojo kablelio skaičius\n",
    "z = 2 + 3j   # kompleksinis skaičius\n",
    "print(type(z))"
   ]
  },
  {
   "attachments": {},
   "cell_type": "markdown",
   "metadata": {},
   "source": [
    "## Uzduotis 02 03"
   ]
  },
  {
   "cell_type": "code",
   "execution_count": 12,
   "metadata": {},
   "outputs": [
    {
     "name": "stdout",
     "output_type": "stream",
     "text": [
      "5 <class 'int'>\n",
      "3.5 <class 'float'>\n",
      "2j <class 'complex'>\n"
     ]
    }
   ],
   "source": [
    "a = 5\n",
    "b = 3.5\n",
    "c = 2j \n",
    "print(a, type(a))\n",
    "print(b, type(b))\n",
    "print(c, type(c))"
   ]
  },
  {
   "cell_type": "code",
   "execution_count": 13,
   "metadata": {},
   "outputs": [
    {
     "name": "stdout",
     "output_type": "stream",
     "text": [
      "<class 'str'>\n"
     ]
    }
   ],
   "source": [
    "a = \"Hello, world!\"\n",
    "print(type(a))"
   ]
  },
  {
   "cell_type": "code",
   "execution_count": 18,
   "metadata": {},
   "outputs": [
    {
     "name": "stdout",
     "output_type": "stream",
     "text": [
      "1\n"
     ]
    }
   ],
   "source": [
    "a = 10 % 3  \n",
    "print(a)"
   ]
  },
  {
   "attachments": {},
   "cell_type": "markdown",
   "metadata": {},
   "source": [
    "## Uzduotis 02 04\n"
   ]
  },
  {
   "cell_type": "code",
   "execution_count": 19,
   "metadata": {},
   "outputs": [
    {
     "name": "stdout",
     "output_type": "stream",
     "text": [
      "12.5\n",
      "7.5\n",
      "62.5\n",
      "4.0\n",
      "316.22776601683796\n"
     ]
    }
   ],
   "source": [
    "x = 10\n",
    "y = 2.5\n",
    "z = 2j \n",
    "\n",
    "atsakymas1 = x + y\n",
    "atsakymas2 = x - y\n",
    "atsakymas3 = x * y * y\n",
    "atsakymas4 = x / y  \n",
    "atsakymas5 = x ** y\n",
    "\n",
    "print(atsakymas1)\n",
    "print(atsakymas2)\n",
    "print(atsakymas3)\n",
    "print(atsakymas4)\n",
    "print(atsakymas5)"
   ]
  },
  {
   "cell_type": "code",
   "execution_count": 24,
   "metadata": {},
   "outputs": [
    {
     "name": "stdout",
     "output_type": "stream",
     "text": [
      "6.0\n",
      "1.0\n"
     ]
    }
   ],
   "source": [
    "a = 10\n",
    "b = 1.5\n",
    "\n",
    "atsakymas1 = a // b\n",
    "atsakymas2 = a % b\n",
    "\n",
    "print(atsakymas1)\n",
    "print(atsakymas2)"
   ]
  },
  {
   "cell_type": "code",
   "execution_count": 25,
   "metadata": {},
   "outputs": [
    {
     "name": "stdout",
     "output_type": "stream",
     "text": [
      "a ir b nera lygus\n"
     ]
    }
   ],
   "source": [
    "a = 10\n",
    "b = 5\n",
    "if a == b:\n",
    "    print(\"a ir b yra lygus\")\n",
    "else:\n",
    "    print(\"a ir b nera lygus\")"
   ]
  },
  {
   "cell_type": "code",
   "execution_count": 27,
   "metadata": {},
   "outputs": [
    {
     "name": "stdout",
     "output_type": "stream",
     "text": [
      "Abu teiginiai yra tiesa\n"
     ]
    }
   ],
   "source": [
    "a = 10\n",
    "b = 5\n",
    "if a > 5 and b < 10:\n",
    "    print(\"Abu teiginiai yra tiesa\")\n",
    "else:\n",
    "    print(\"Vienas ar abu teiginiai yra netiesa\")"
   ]
  },
  {
   "cell_type": "code",
   "execution_count": 28,
   "metadata": {},
   "outputs": [
    {
     "name": "stdout",
     "output_type": "stream",
     "text": [
      "True\n"
     ]
    }
   ],
   "source": [
    "a = 10\n",
    "b = 5\n",
    "c = 20\n",
    "d = a > b and b < c or c == 20\n",
    "print(d) # spausdina True"
   ]
  },
  {
   "attachments": {},
   "cell_type": "markdown",
   "metadata": {},
   "source": [
    "## Uzduotis 02 05"
   ]
  },
  {
   "cell_type": "code",
   "execution_count": 30,
   "metadata": {},
   "outputs": [
    {
     "name": "stdout",
     "output_type": "stream",
     "text": [
      "Skaicius yra neigiamas\n"
     ]
    }
   ],
   "source": [
    "a = int(input(\"Iveskite skaiciu: \"))\n",
    "if a > 0:\n",
    "    print(\"Skaicius yra teigiamas\")\n",
    "else:\n",
    "    print(\"Skaicius yra neigiamas\")"
   ]
  },
  {
   "cell_type": "code",
   "execution_count": 32,
   "metadata": {},
   "outputs": [
    {
     "name": "stdout",
     "output_type": "stream",
     "text": [
      "Skaicius yra tarp 5 ir 10\n"
     ]
    }
   ],
   "source": [
    "a = int(input(\"Iveskite skaiciu: \"))\n",
    "if a >= 5 and a <= 10:\n",
    "    print(\"Skaicius yra tarp 5 ir 10\")\n",
    "else:\n",
    "    print(\"Skaicius nera tarp 5 ir 10\")"
   ]
  },
  {
   "cell_type": "code",
   "execution_count": 36,
   "metadata": {},
   "outputs": [
    {
     "name": "stdout",
     "output_type": "stream",
     "text": [
      "Bent vienas skaicius yra neigiamas arba lygus 0\n"
     ]
    }
   ],
   "source": [
    "a = int(input(\"Iveskite skaiciu: \"))\n",
    "b = int(input(\"Iveskite skaiciu: \"))\n",
    "if a > 0 and b > 0:\n",
    "    print(\"Abu skaiciai yra didesni nei 0\")\n",
    "else:\n",
    "    print(\"Bent vienas skaicius yra neigiamas arba lygus 0\")"
   ]
  },
  {
   "cell_type": "code",
   "execution_count": 1,
   "metadata": {},
   "outputs": [
    {
     "name": "stdout",
     "output_type": "stream",
     "text": [
      "Abu skaičiai yra nelyginiai\n"
     ]
    }
   ],
   "source": [
    "# Paprašome vartotojo įvesti du skaičius\n",
    "a = int(input(\"Įveskite pirmą skaičių: \"))\n",
    "b = int(input(\"Įveskite antrą skaičių: \"))\n",
    "\n",
    "# Patikriname, ar bent vienas skaičius yra lyginis\n",
    "if a % 2 == 0 or b % 2 == 0:\n",
    "    print(\"Bent vienas skaičius yra lyginis\")\n",
    "else:\n",
    "    print(\"Abu skaičiai yra nelyginiai\")"
   ]
  },
  {
   "cell_type": "code",
   "execution_count": 2,
   "metadata": {},
   "outputs": [
    {
     "name": "stdout",
     "output_type": "stream",
     "text": [
      "L\n",
      "a\n",
      "!\n"
     ]
    }
   ],
   "source": [
    "x = \"Labas, pasauli!\"\n",
    "print(x[0])\n",
    "print(x[1])\n",
    "print(x[-1])"
   ]
  },
  {
   "cell_type": "code",
   "execution_count": 4,
   "metadata": {},
   "outputs": [
    {
     "name": "stdout",
     "output_type": "stream",
     "text": [
      "Labas rytas, pasauli!\n"
     ]
    }
   ],
   "source": [
    "x = \"Labas, pasauli!\"\n",
    "x = x[:5] + \" rytas\" + x[5:]\n",
    "print(x)"
   ]
  },
  {
   "cell_type": "code",
   "execution_count": 5,
   "metadata": {},
   "outputs": [
    {
     "name": "stdout",
     "output_type": "stream",
     "text": [
      "15\n"
     ]
    }
   ],
   "source": [
    "x = \"Labas, pasauli!\"\n",
    "print(len(x))"
   ]
  },
  {
   "cell_type": "code",
   "execution_count": 8,
   "metadata": {},
   "outputs": [
    {
     "name": "stdout",
     "output_type": "stream",
     "text": [
      "Labas\n",
      "Pasauli\n"
     ]
    }
   ],
   "source": [
    "print(\"Labas\\nPasauli\")"
   ]
  },
  {
   "cell_type": "code",
   "execution_count": 12,
   "metadata": {},
   "outputs": [
    {
     "name": "stdout",
     "output_type": "stream",
     "text": [
      "Vardas\tAmzius\tMiestas\n",
      "Andrius\t37\tKlaipeda\n",
      "Rejus\t6\tKlaipeda\n"
     ]
    }
   ],
   "source": [
    "print(\"Vardas\\tAmzius\\tMiestas\")\n",
    "print(\"Andrius\\t37\\tKlaipeda\")\n",
    "print(\"Rejus\\t6\\tKlaipeda\")"
   ]
  },
  {
   "cell_type": "code",
   "execution_count": 13,
   "metadata": {},
   "outputs": [
    {
     "name": "stdout",
     "output_type": "stream",
     "text": [
      "© LITHUANIA\n"
     ]
    }
   ],
   "source": [
    "print(\"\\u00A9 LITHUANIA\")"
   ]
  },
  {
   "attachments": {},
   "cell_type": "markdown",
   "metadata": {},
   "source": [
    "## Uzduotys 02 06 pirmas"
   ]
  },
  {
   "cell_type": "code",
   "execution_count": 14,
   "metadata": {},
   "outputs": [
    {
     "name": "stdout",
     "output_type": "stream",
     "text": [
      "Pirmasis simbolis: L\n",
      "Paskutinis simbolis: s\n"
     ]
    }
   ],
   "source": [
    "x = input(\"Iveskite simboliu eilute: \")\n",
    "print(\"Pirmasis simbolis:\", x[0])\n",
    "print(\"Paskutinis simbolis:\", x[-1])"
   ]
  },
  {
   "cell_type": "code",
   "execution_count": 17,
   "metadata": {},
   "outputs": [
    {
     "name": "stdout",
     "output_type": "stream",
     "text": [
      "Sveik\n",
      "vi!\n"
     ]
    }
   ],
   "source": [
    "x = \"Sveiki, gyvi!\"\n",
    "print(x[:5])\n",
    "print(x[-3:])"
   ]
  },
  {
   "cell_type": "code",
   "execution_count": 19,
   "metadata": {},
   "outputs": [
    {
     "name": "stdout",
     "output_type": "stream",
     "text": [
      "L-v\n"
     ]
    }
   ],
   "source": [
    "pirmas_zodis = input(\"Iveskite pirmaji zodi: \")\n",
    "antras_zodis = input(\"Iveskite antraji zodi: \")\n",
    "print(pirmas_zodis[0] + \"-\" + antras_zodis[0])"
   ]
  },
  {
   "cell_type": "code",
   "execution_count": 21,
   "metadata": {},
   "outputs": [
    {
     "name": "stdout",
     "output_type": "stream",
     "text": [
      "Pradinis tekstas:  Labas, pasauli!\n",
      "Upper metodas:  LABAS, PASAULI!\n",
      "Lower metodas:  labas, pasauli!\n",
      "Join metodas:  Labas pasauli !\n",
      "Split metodas:  ['Labas', 'pasauli!']\n",
      "Find metodas:  7\n",
      "Replace metodas:  Sveiki, pasauli!\n"
     ]
    }
   ],
   "source": [
    "# Sukuriamas tekstas\n",
    "sakinys = \"Labas, pasauli!\"\n",
    "\n",
    "# Upper metodas: pakeičia visas raides didžiosiomis raidėmis\n",
    "didziosios_raides = sakinys.upper()\n",
    "\n",
    "# Lower metodas: pakeičia visas raides mažosiomis raidėmis\n",
    "mazosios_raides = sakinys.lower()\n",
    "\n",
    "# Join metodas: sujungia eilučių sąrašą į vieną eilutę\n",
    "zodziu_sarasas = [\"Labas\", \"pasauli\", \"!\"]\n",
    "eilute = \" \".join(zodziu_sarasas)\n",
    "\n",
    "# Split metodas: skaido eilutę pagal nurodytą skyriklį ir grąžina sąrašą\n",
    "zodziu_sarasas = sakinys.split(\", \")\n",
    "\n",
    "# Find metodas: ieško nurodytos frazės ir grąžina jos poziciją\n",
    "pozicija = sakinys.find(\"pasauli\")\n",
    "\n",
    "# Replace metodas: pakeičia nurodytą frazę kitu tekstu\n",
    "pakeistas_tekstas = sakinys.replace(\"Labas\", \"Sveiki\")\n",
    "\n",
    "# Spausdiname pradinę eilutę ir jos pakeistus variantus\n",
    "print(\"Pradinis tekstas: \", sakinys)\n",
    "print(\"Upper metodas: \", didziosios_raides)\n",
    "print(\"Lower metodas: \", mazosios_raides)\n",
    "print(\"Join metodas: \", eilute)\n",
    "print(\"Split metodas: \", zodziu_sarasas)\n",
    "print(\"Find metodas: \", pozicija)\n",
    "print(\"Replace metodas: \", pakeistas_tekstas)\n"
   ]
  },
  {
   "cell_type": "code",
   "execution_count": 24,
   "metadata": {},
   "outputs": [
    {
     "name": "stdout",
     "output_type": "stream",
     "text": [
      "radau pasauli\n",
      "neradau Labas\n",
      "0\n",
      "False\n",
      "True\n",
      "radau Labas\n"
     ]
    }
   ],
   "source": [
    "#Pastaba: atsargiai naudokite .find() rezultatus loginėse išraiškose. Pvz.\n",
    "\n",
    "tekstas = \"Labas pasauli\"\n",
    "if tekstas.find(\"pasauli\"):\n",
    "    print(\"radau pasauli\")\n",
    "else:\n",
    "    print(\"neradau pasauli\")\n",
    "if tekstas.find(\"Labas\"):\n",
    "    print(\"radau Labas\")\n",
    "else:\n",
    "    print(\"neradau Labas\")\n",
    "\n",
    "#Taip gaunasi todėl, kad paieškos rezultatas yra nulis, o konvertuojant tarp kintamųjų tipų int ir bool, nulis yra False.\n",
    "\n",
    "print(tekstas.find(\"Labas\"))\n",
    "print(0 == True)\n",
    "print(0 == False)\n",
    "\n",
    "#Teisingas naudojimas .find() metodo sąlygoje būtų tikrinti, ar randama reikšmė yra neneigiama:\n",
    "\n",
    "if tekstas.find(\"Labas\") >= 0:\n",
    "    print(\"radau Labas\")\n",
    "else:\n",
    "    print(\"neradau Labas\")"
   ]
  },
  {
   "attachments": {},
   "cell_type": "markdown",
   "metadata": {},
   "source": [
    "## Uzduotis Nr 5"
   ]
  },
  {
   "cell_type": "code",
   "execution_count": 25,
   "metadata": {},
   "outputs": [
    {
     "name": "stdout",
     "output_type": "stream",
     "text": [
      "Pradinis tekstas: As esu studentas\n",
      "Tekstas didžiosiomis raidėmis: AS ESU STUDENTAS\n",
      "Tekstas mažosiomis raidėmis: as esu studentas\n",
      "Sąrašo sujungta eilutė: As esu studentas\n",
      "Sakinys padalintas į žodžius: ['As', 'esu', 'studentas']\n",
      "Žodžio 'studentas' pozicija: 7\n",
      "Tekstas su pakeistu žodžiu: As esu programuotojas\n"
     ]
    }
   ],
   "source": [
    "sakinys = \"As esu studentas\"\n",
    "didziosios_raides = sakinys.upper()\n",
    "mazosios_raides = sakinys.lower()\n",
    "zodziu_sarasas = [\"As\", \"esu\", \"studentas\"]\n",
    "eilute = \" \".join(zodziu_sarasas)\n",
    "zodziu_sarasas = sakinys.split(\" \")\n",
    "pozicija = sakinys.find(\"studentas\")\n",
    "pakeistas_tekstas = sakinys.replace(\"studentas\", \"programuotojas\")\n",
    "print(\"Pradinis tekstas:\", sakinys)\n",
    "print(\"Tekstas didžiosiomis raidėmis:\", didziosios_raides)\n",
    "print(\"Tekstas mažosiomis raidėmis:\", mazosios_raides)\n",
    "print(\"Sąrašo sujungta eilutė:\", eilute)\n",
    "print(\"Sakinys padalintas į žodžius:\", zodziu_sarasas)\n",
    "print(\"Žodžio 'studentas' pozicija:\", pozicija)\n",
    "print(\"Tekstas su pakeistu žodžiu:\", pakeistas_tekstas)"
   ]
  },
  {
   "cell_type": "code",
   "execution_count": 1,
   "metadata": {},
   "outputs": [
    {
     "name": "stdout",
     "output_type": "stream",
     "text": [
      "Sveiki, mano vardas yra Andrius ir man yra 37 metai.\n"
     ]
    }
   ],
   "source": [
    "#Šiame pavyzdyje teksto eilutė sukurta sujungiant atskirus tekstus ir kintamuosius. Reikia atkreipti dėmesį, kad skaičius amzius buvo konvertuotas į eilutę naudojant str() funkciją.\n",
    "\n",
    "vardas = \"Andrius\"\n",
    "amzius = 37\n",
    "\n",
    "tekstas = \"Sveiki, mano vardas yra \" + vardas + \" ir man yra \" + str(amzius) + \" metai.\"\n",
    "print(tekstas)"
   ]
  },
  {
   "cell_type": "code",
   "execution_count": 3,
   "metadata": {},
   "outputs": [
    {
     "name": "stdout",
     "output_type": "stream",
     "text": [
      "Sveiki, mano vardas yra Rejus ir man yra 6 metai.\n"
     ]
    }
   ],
   "source": [
    "#f' eilučių formatas yra formatavimo metodas, leidžiantis sukurti tekstą su kintamaisiais tiesiogiai eilutėje. Norint pridėti kintamąjį, \n",
    "#tiesiog reikia naudoti f' simbolį ir įdėti kintamojo pavadinimą į skliaustus. Pavyzdžiui:\n",
    "\n",
    "vardas = \"Rejus\"\n",
    "amzius = 6\n",
    "\n",
    "tekstas = f\"Sveiki, mano vardas yra {vardas} ir man yra {amzius} metai.\"\n",
    "print(tekstas)"
   ]
  },
  {
   "cell_type": "code",
   "execution_count": 4,
   "metadata": {},
   "outputs": [
    {
     "name": "stdout",
     "output_type": "stream",
     "text": [
      "suformatuotas skaicius: 1,234,567.89\n"
     ]
    }
   ],
   "source": [
    "#Šiuo pavyzdžiu skaičius skaicius formatuojamas kaip float tipo skaičius su 2 skaičiais po kablelio. Formatuojant skaičių taip pat naudojamas tūkstančių skirtukas ,.\n",
    "\n",
    "skaicius = 1234567.89\n",
    "print(f\"suformatuotas skaicius: {skaicius:,.2f}\")"
   ]
  },
  {
   "cell_type": "code",
   "execution_count": 5,
   "metadata": {},
   "outputs": [
    {
     "name": "stdout",
     "output_type": "stream",
     "text": [
      "suformatuotas skaicius: 1234\n"
     ]
    }
   ],
   "source": [
    "#Jeigu norite, kad float tipo skaičius būtų pateiktas be nulių po kablelio, galite naudoti g formatą.\n",
    "\n",
    "skaicius = 1234.0\n",
    "print(f\"suformatuotas skaicius: {skaicius:g}\")"
   ]
  },
  {
   "cell_type": "code",
   "execution_count": 6,
   "metadata": {},
   "outputs": [
    {
     "name": "stdout",
     "output_type": "stream",
     "text": [
      "suformatuotas skaicius: 1,234,567.89\n"
     ]
    }
   ],
   "source": [
    "#norint formatuoti skaičių su kableliais, galite naudoti tūkstančių skirtukus ,. Šis formatavimo raktas veikia su skaičiais ir float tipo skaičiais.\n",
    "\n",
    "skaicius = 1234567.89\n",
    "print(f\"suformatuotas skaicius: {skaicius:,.2f}\")\n"
   ]
  },
  {
   "cell_type": "code",
   "execution_count": 7,
   "metadata": {},
   "outputs": [
    {
     "name": "stdout",
     "output_type": "stream",
     "text": [
      "suformatuotas skaicius: 00123\n"
     ]
    }
   ],
   "source": [
    "#Jeigu norite nurodyti skaitmenų plotį, galite naudoti : formatavimo raktą su d arba f formatu. \n",
    "#Pavyzdžiui, jei norite, kad skaičius būtų pateiktas su 5 skaitmenimis, įskaitant nulius, galite naudoti formatą {:05d}:\n",
    "\n",
    "skaicius = 123\n",
    "print(f\"suformatuotas skaicius: {skaicius:05d}\")"
   ]
  },
  {
   "cell_type": "code",
   "execution_count": 8,
   "metadata": {},
   "outputs": [
    {
     "name": "stdout",
     "output_type": "stream",
     "text": [
      "suformatuotas skaicius: 0001234.57\n",
      "suformatuotas skaicius: 0012345.68\n"
     ]
    }
   ],
   "source": [
    "#Taip pat galite nurodyti skaitmenų plotį ir kablelio skaitmenų plotį float tipo skaičiams.\n",
    "#Pavyzdžiui, jei norite, kad skaičius būtų pateiktas 10 simbolių plote, iš kurių 2 yra po kablelio, galite naudoti formatą {:10.2f}:\n",
    "\n",
    "skaicius1 = 1234.5678\n",
    "skaicius2 = 12345.678\n",
    "print(f\"suformatuotas skaicius: {skaicius1:010.2f}\")\n",
    "print(f\"suformatuotas skaicius: {skaicius2:010.2f}\")"
   ]
  },
  {
   "cell_type": "code",
   "execution_count": 9,
   "metadata": {},
   "outputs": [
    {
     "name": "stdout",
     "output_type": "stream",
     "text": [
      "Skaičius kaip str: 123\n"
     ]
    }
   ],
   "source": [
    "#Norint konvertuoti skaičių į str tipo kintamąjį, galite tiesiog panaudoti str() funkciją. Pavyzdžiui:\n",
    "\n",
    "skaicius = 123\n",
    "skaicius_str = str(skaicius)\n",
    "print(\"Skaičius kaip str: \" + skaicius_str)"
   ]
  },
  {
   "cell_type": "code",
   "execution_count": 10,
   "metadata": {},
   "outputs": [
    {
     "name": "stdout",
     "output_type": "stream",
     "text": [
      "Skaičius su formatavimu: 00123\n"
     ]
    }
   ],
   "source": [
    "#Kartais gali prireikti konvertuoti skaičius į str tipo kintamuosius su tam tikru formatavimu. \n",
    "#Pavyzdžiui, norint pridėti nulius prie skaičiaus, kad jis atitiktų tam tikrą skaitmenų plotį.\n",
    "\n",
    "skaicius = 123\n",
    "skaicius_str = \"{:0>5}\".format(skaicius)\n",
    "print(\"Skaičius su formatavimu: \" + skaicius_str)"
   ]
  },
  {
   "cell_type": "code",
   "execution_count": 11,
   "metadata": {},
   "outputs": [
    {
     "name": "stdout",
     "output_type": "stream",
     "text": [
      "Suma yra: 9\n"
     ]
    }
   ],
   "source": [
    "#Jeigu programoje norite naudoti skaičius, \"input\" funkcija taip pat gali būti naudojama skaičių įvedimui. \n",
    "#Tačiau svarbu prisiminti, kad \"input\" funkcija visada grąžina tekstą, \n",
    "#todėl turite konvertuoti įvestus duomenis į skaičių formatą, jei norite atlikti skaičiavimus.\n",
    "\n",
    "num1 = input(\"Įveskite pirmąjį skaičių: \")\n",
    "num2 = input(\"Įveskite antrąjį skaičių: \")\n",
    "suma = int(num1) + int(num2)\n",
    "print(\"Suma yra: \" + str(suma))"
   ]
  },
  {
   "cell_type": "code",
   "execution_count": 12,
   "metadata": {},
   "outputs": [
    {
     "name": "stdout",
     "output_type": "stream",
     "text": [
      "Pirma reikšmė: 5, antra reikšmė: 10, suma: 15\n"
     ]
    }
   ],
   "source": [
    "#Jeigu norite išvesti kintamąjį arba rezultatą, \"print\" funkciją galite naudoti kartu su formatavimo simboliais. Pavyzdžiui:\n",
    "\n",
    "x = 5\n",
    "y = 10\n",
    "sum = x + y\n",
    "print(\"Pirma reikšmė: {}, antra reikšmė: {}, suma: {}\".format(x, y, sum))"
   ]
  },
  {
   "cell_type": "code",
   "execution_count": 15,
   "metadata": {},
   "outputs": [
    {
     "name": "stdout",
     "output_type": "stream",
     "text": [
      "Vienas du trys, keturi penki šeši\n",
      "Vienas du trys\n",
      "keturi penki sesi\n"
     ]
    }
   ],
   "source": [
    "#print() argumentai end ir sep:\n",
    "#end argumentas nurodo, kokių simbolių turi būti naudojama kaip tekstą išvedančios funkcijos print() \n",
    "#pabaigos simbolius. Pagal nutylėjimą end='\\n', tai reiškia, kad po kiekvieno print() \n",
    "#išvedimo yra dedamas naujos eilutės simbolis. Galite nurodyti kitą simbolį, kad sukurtumėte kitą elgesį. \n",
    "#Pavyzdžiui, jei norite išvesti visus elementus tame pačiame eilutėje, \n",
    "#atskirtus kableliais ir tarpu, galite naudoti end=', '. Pavyzdys:\n",
    "\n",
    "print(\"Vienas\", \"du\", \"trys\", end=', ')\n",
    "print(\"keturi\", \"penki\", \"šeši\")\n",
    "\n",
    "print(\"Vienas\", \"du\", \"trys\", end=\"\\n\")\n",
    "print(\"keturi\", \"penki\", \"sesi\")"
   ]
  },
  {
   "cell_type": "code",
   "execution_count": 16,
   "metadata": {},
   "outputs": [
    {
     "name": "stdout",
     "output_type": "stream",
     "text": [
      "Vienas:du:trys\n"
     ]
    }
   ],
   "source": [
    "#sep argumentas nurodo, kaip atskirti kelių argumentų reikšmes išvedimo metu. \n",
    "#Pagal nutylėjimą sep=' ', tai reiškia, kad tarp kiekvieno argumento yra dedamas tarpo simbolis. \n",
    "#Galite nurodyti kitą simbolį, kad sukurtumėte kitą elgesį. \n",
    "#Pavyzdžiui, jei norite atskirti kiekvieną argumentą kabliataškiu, galite naudoti sep=':'. Pavyzdys:\n",
    "\n",
    "print(\"Vienas\", \"du\", \"trys\", sep=':')"
   ]
  }
 ],
 "metadata": {
  "kernelspec": {
   "display_name": "venv",
   "language": "python",
   "name": "python3"
  },
  "language_info": {
   "codemirror_mode": {
    "name": "ipython",
    "version": 3
   },
   "file_extension": ".py",
   "mimetype": "text/x-python",
   "name": "python",
   "nbconvert_exporter": "python",
   "pygments_lexer": "ipython3",
   "version": "3.11.3"
  },
  "orig_nbformat": 4
 },
 "nbformat": 4,
 "nbformat_minor": 2
}
