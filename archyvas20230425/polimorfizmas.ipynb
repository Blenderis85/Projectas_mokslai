{
 "cells": [
  {
   "cell_type": "code",
   "execution_count": 1,
   "metadata": {},
   "outputs": [
    {
     "name": "stdout",
     "output_type": "stream",
     "text": [
      "Jonas Jonaitis, atlyginimas: 1000 €\n",
      "Petras Petraitis, atlyginimas: 1200 €\n",
      "Juozas Juozaitis, atlyginimas: 900 €\n",
      "Antanas Antanaitis, atlyginimas: 1500 €\n",
      "Premija: 500 €\n"
     ]
    }
   ],
   "source": [
    "## užduotis:\n",
    "\n",
    "#Sukurkite darbuotojų klasę su savybėmis vardas, pavarde ir atlyginimas, kuri turėtų metodą atspausdinantį darbuotojo informaciją.\n",
    "#Sukurkite administratoriaus klasę, kuri paveldėtų savybes iš darbuotojo klasės.\n",
    "#Sukurkite vadovo klasę, kuri paveldėtų savybes iš darbuotojo klasės ir turėtų papildomą savybę \"premija\" bei metodą, kuris atspausdins darbuotojo informaciją.\n",
    "#Sukurkite kelis kiekvienos klasės objektus ir iškvieskite informacijos spausdinimo metodą.\n",
    "\n",
    "class Darbuotojas:\n",
    "    def __init__(self, vardas, pavarde, atlyginimas=1000):\n",
    "        self.vardas = vardas\n",
    "        self.pavarde = pavarde\n",
    "        self.atlyginimas = atlyginimas\n",
    "\n",
    "    def info(self):\n",
    "        print(f'{self.vardas} {self.pavarde}, atlyginimas: {self.atlyginimas} €')\n",
    "\n",
    "\n",
    "class Administratorius(Darbuotojas):\n",
    "    def __init__(self, vardas, pavarde, atlyginimas):\n",
    "        super().__init__(vardas, pavarde, atlyginimas)\n",
    "\n",
    "\n",
    "class Vadovas(Darbuotojas):\n",
    "    def __init__(self, vardas, pavarde, atlyginimas, premija):\n",
    "        super().__init__(vardas, pavarde, atlyginimas)\n",
    "        self.premija = premija\n",
    "\n",
    "    def info(self):\n",
    "        super().info()\n",
    "        print(f'Premija: {self.premija} €')\n",
    "\n",
    "\n",
    "darbuotojas1 = Darbuotojas('Jonas', 'Jonaitis')\n",
    "darbuotojas2 = Darbuotojas('Petras', 'Petraitis', 1200)\n",
    "darbuotojas3 = Administratorius('Juozas', 'Juozaitis', 900)\n",
    "vadovas1 = Vadovas('Antanas', 'Antanaitis', 1500, 500)\n",
    "\n",
    "darbuotojai = [darbuotojas1, darbuotojas2, darbuotojas3, vadovas1]\n",
    "\n",
    "for darbuotojas in darbuotojai:\n",
    "    darbuotojas.info()"
   ]
  }
 ],
 "metadata": {
  "kernelspec": {
   "display_name": "venv",
   "language": "python",
   "name": "python3"
  },
  "language_info": {
   "codemirror_mode": {
    "name": "ipython",
    "version": 3
   },
   "file_extension": ".py",
   "mimetype": "text/x-python",
   "name": "python",
   "nbconvert_exporter": "python",
   "pygments_lexer": "ipython3",
   "version": "3.11.3"
  },
  "orig_nbformat": 4
 },
 "nbformat": 4,
 "nbformat_minor": 2
}
