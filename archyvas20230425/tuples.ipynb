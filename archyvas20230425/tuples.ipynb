{
 "cells": [
  {
   "cell_type": "code",
   "execution_count": null,
   "metadata": {},
   "outputs": [],
   "source": [
    "## tuple\n",
    "## tuple yra nekeičiamas ir tvarkingas Python duomenų tipas, panašus į sąrašą, \n",
    "## kuris gali saugoti bet kokio tipo elementus. Tai reiškia, kad po sukūrimo, \n",
    "## tuplės elementai negali būti pakeisti ar pašalinti.\n",
    "\n",
    "## tuple kūrimas\n",
    "## tuple sukūrimas yra labai panašus į sąrašo sukūrimą, \n",
    "## tik naudojama skliaustelių pora () vietoj laužtinių skliaustų []:\n",
    "\n",
    "vieno_elemento_tuple = (1,)\n",
    "print(vieno_elemento_tuple) # (1,)\n",
    "print(type(vieno_elemento_tuple)) # <class 'tuple'> \n",
    "\n",
    "## ❗Pastaba: tuščia tuplė neturi prasmės, todėl tuščios tuplės aprašyti neina.\n",
    "\n",
    "\n",
    "skaiciu_tuple = (1, 2, 3, 4, 5)\n",
    "print(skaiciu_tuple) # (1, 2, 3, 4, 5)\n",
    "\n",
    "misri_tuple = (1, 'du', 3.0, [4, 5], True)\n",
    "print(misri_tuple) # (1, 'du', 3.0, [4, 5], True) "
   ]
  },
  {
   "cell_type": "code",
   "execution_count": 1,
   "metadata": {},
   "outputs": [
    {
     "name": "stdout",
     "output_type": "stream",
     "text": [
      "(1, 2, 3, 'a', 'b', 'c', True, False)\n"
     ]
    }
   ],
   "source": [
    "## tuple sujungimas \n",
    "## Norint sujungti du ar daugiau tuple, galima naudoti + operatorių. \n",
    "## Šis operatorius sujungia tuple reikšmes ir grąžina naują tuple su visais elementais. Pvz.:\n",
    "\n",
    "pirmas_tuple = (1, 2, 3)\n",
    "antras_tuple = ('a', 'b', 'c')\n",
    "trecias_tuple = (True, False)\n",
    "\n",
    "naujas_tuple = pirmas_tuple + antras_tuple + trecias_tuple\n",
    "\n",
    "print(naujas_tuple)"
   ]
  },
  {
   "cell_type": "code",
   "execution_count": null,
   "metadata": {},
   "outputs": [],
   "source": [
    "## Kaip pasiekti tuple elementus\n",
    "## Tuple elementai yra pasiekiami naudojant indeksus, taip pat kaip ir sąrašuose. \n",
    "## Indeksai prasideda nuo nulio, o paskutinis elementas yra pasiekiamas naudojant indeksą -1:\n",
    "\n",
    "misrus_tuple = (1, 'du', 3.0, [4, 5], True)\n",
    "\n",
    "print(misrus_tuple[0]) # 1\n",
    "print(misrus_tuple[3]) # [4, 5]\n",
    "print(misrus_tuple[-1]) # True"
   ]
  },
  {
   "cell_type": "code",
   "execution_count": null,
   "metadata": {},
   "outputs": [],
   "source": [
    "## tuple dalijimas\n",
    "## tuple galite dalinti (slicing) naudodami tuos pačius metodus, kaip ir su sąrašais. \n",
    "## Galite nurodyti pradžios ir pabaigos indeksus, taip pat žingsnio dydį, \n",
    "## kad gautumėte tik norimą dalį tuples. Pvz.:\n",
    "\n",
    "raidziu_tuple = ('a', 'b', 'c', 'd', 'e', 'f')\n",
    "print(raidziu_tuple[2:4])  # ('c', 'd')\n",
    "print(raidziu_tuple[0:3:2])  # ('a', 'c')\n",
    "print(raidziu_tuple[:4])  # ('a', 'b', 'c', 'd')\n",
    "print(raidziu_tuple[2::2])  # ('c', 'e')\n",
    "print(raidziu_tuple[::-1])  # ('f', 'e', 'd', 'c', 'b', 'a')"
   ]
  },
  {
   "cell_type": "code",
   "execution_count": null,
   "metadata": {},
   "outputs": [],
   "source": [
    "## tuple metodai\n",
    "## tuple yra nekeičiamas objektas, todėl jame nėra daug metodų kaip, pavyzdžiui, sąraše. Tačiau yra keletas naudingų metodų.\n",
    "## count(x) - grąžina, kiek kartų nurodytas elementas pasikartoja tuple.\n",
    "\n",
    "raidziu_tuple = ('a', 'b', 'c', 'a', 'd')\n",
    "\n",
    "print(raidziu_tuple.count('a'))  # 2\n",
    "\n",
    "## index(x) - grąžina indeksą pirmajam nurodyto elemento atvejui tuple.\n",
    "\n",
    "raidziu_tuple = ('a', 'b', 'c', 'a', 'd')\n",
    "\n",
    "print(raidziu_tuple.index('a'))  # 0"
   ]
  },
  {
   "cell_type": "code",
   "execution_count": null,
   "metadata": {},
   "outputs": [],
   "source": [
    "## Patikrinti ar elementas yra tuple\n",
    "## Galite patikrinti, ar tuple turi elementą naudodami in operatorių. \n",
    "## Šis operatorius grąžins True, jei elemento reikšmė yra tuple, ir False, \n",
    "## jei elemento reikšmės nėra tuple. Pvz.:\n",
    "\n",
    "raidziu_tuple = ('a', 'b', 'c', 'a', 'd')\n",
    "\n",
    "print('a' in raidziu_tuple)  # True\n",
    "print('e' in raidziu_tuple)  # False\n",
    "\n"
   ]
  },
  {
   "cell_type": "code",
   "execution_count": 2,
   "metadata": {},
   "outputs": [
    {
     "name": "stdout",
     "output_type": "stream",
     "text": [
      "a\n",
      "b\n",
      "c\n",
      "a\n",
      "d\n"
     ]
    }
   ],
   "source": [
    "## Iteravimas\n",
    "## tuple yra iteruojamas objektas, tai reiškia, kad jo elementus galite pereiti vieną po kito naudodami for ciklą arba while ciklą.\n",
    "## for ciklo pvz:\n",
    "\n",
    "raidziu_tuple = ('a', 'b', 'c', 'a', 'd')\n",
    "\n",
    "for raide in raidziu_tuple:\n",
    "    print(raide)\n"
   ]
  },
  {
   "cell_type": "code",
   "execution_count": 3,
   "metadata": {},
   "outputs": [
    {
     "name": "stdout",
     "output_type": "stream",
     "text": [
      "a\n",
      "b\n",
      "c\n",
      "a\n",
      "d\n"
     ]
    }
   ],
   "source": [
    "## while ciklo pvz:\n",
    "\n",
    "raidziu_tuple = ('a', 'b', 'c', 'a', 'd')\n",
    "\n",
    "i = 0\n",
    "while i < len(raidziu_tuple):\n",
    "    print(raidziu_tuple[i]) \n",
    "    i += 1 \n",
    "\n",
    "## Kaip matote, while cikle naudojame len() funkciją, kad sužinotume, \n",
    "## kiek tuple turi elementų. Tada, naudodami kintamąjį i, per kiekvieną iteraciją gautume reikšmę, \n",
    "## kurią spausdintume, ir padidintume i reikšmę vienetu, kad galėtume per eiti per kitą tuple elementą."
   ]
  }
 ],
 "metadata": {
  "kernelspec": {
   "display_name": "venv",
   "language": "python",
   "name": "python3"
  },
  "language_info": {
   "codemirror_mode": {
    "name": "ipython",
    "version": 3
   },
   "file_extension": ".py",
   "mimetype": "text/x-python",
   "name": "python",
   "nbconvert_exporter": "python",
   "pygments_lexer": "ipython3",
   "version": "3.11.3"
  },
  "orig_nbformat": 4
 },
 "nbformat": 4,
 "nbformat_minor": 2
}
