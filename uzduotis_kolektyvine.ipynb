{
 "cells": [
  {
   "cell_type": "code",
   "execution_count": 12,
   "metadata": {},
   "outputs": [
    {
     "name": "stdout",
     "output_type": "stream",
     "text": [
      "Sveiki atvyk i internetine parduotuve!\n",
      "=== MENU ===\n",
      "1 - Mesa 🥩\n",
      "2 - Pienas 🥛\n",
      "3 - Miltai 🥐\n",
      "4 - Darzoves 🥕\n"
     ]
    }
   ],
   "source": [
    "## Internetine parduotuve\n",
    "\n",
    "print(\"Sveiki atvyk i internetine parduotuve!\")\n",
    "print(\"=== MENU ===\")\n",
    "print(\"1 - \" + \"Mesa\", \"🥩\" )\n",
    "print(\"2 - \" + \"Pienas\", \"🥛\")\n",
    "print(\"3 - \" + \"Miltai\", \"🥐\")\n",
    "print(\"4 - \" + \"Darzoves\", \"🥕\")\n",
    "\n",
    "choice = input(\"Iveskite savo pasirinkima (1-4): \")"
   ]
  }
 ],
 "metadata": {
  "kernelspec": {
   "display_name": "venv",
   "language": "python",
   "name": "python3"
  },
  "language_info": {
   "codemirror_mode": {
    "name": "ipython",
    "version": 3
   },
   "file_extension": ".py",
   "mimetype": "text/x-python",
   "name": "python",
   "nbconvert_exporter": "python",
   "pygments_lexer": "ipython3",
   "version": "3.11.3"
  },
  "orig_nbformat": 4
 },
 "nbformat": 4,
 "nbformat_minor": 2
}
