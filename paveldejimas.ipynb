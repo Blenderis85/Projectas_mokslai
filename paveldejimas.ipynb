{
 "cells": [
  {
   "cell_type": "code",
   "execution_count": 4,
   "metadata": {},
   "outputs": [
    {
     "name": "stdout",
     "output_type": "stream",
     "text": [
      "Pilkis\n",
      "Ramiai guliu...\n",
      "Rainė\n",
      "Miau\n",
      "Einu lėtai\n",
      "Margis\n",
      "Au au!\n",
      "Bėgu greitai\n"
     ]
    }
   ],
   "source": [
    "## Pirma užduotis:\n",
    "\n",
    "## Sukurkite klasę \"Gyvunas\" ir klases \"Kate\" ir \"Suo\", kurios paveldi tėvų klasės metodus.\n",
    "## Kiekviena paveldinti klasė turi turėti savo unikalų \"balsas\" ir \"judeti\" metodą.\n",
    "## Sukurkite kelis skirtingoms klasėms priklausančius objektus, priskirkite jiems vardus ir iškvieskite jų metodus.\n",
    "\n",
    "class Gyvunas:\n",
    "    def __init__(self, vardas):\n",
    "        self.vardas = vardas\n",
    "\n",
    "    def balsas(self):\n",
    "        pass\n",
    "\n",
    "    def judeti(self):\n",
    "        print('Ramiai guliu...')\n",
    "\n",
    "class Kate(Gyvunas):\n",
    "    def balsas(self):\n",
    "        print('Miau')\n",
    "\n",
    "    def judeti(self):\n",
    "        print('Einu lėtai')\n",
    "\n",
    "class Suo(Gyvunas):\n",
    "    def balsas(self):\n",
    "        print('Au au!')\n",
    "\n",
    "    def judeti(self):\n",
    "        print('Bėgu greitai')\n",
    "\n",
    "\n",
    "seskas = Gyvunas('Pilkis')\n",
    "kate = Kate('Rainė')\n",
    "suo = Suo('Margis')\n",
    "\n",
    "print(seskas.vardas)\n",
    "seskas.balsas()\n",
    "seskas.judeti()\n",
    "\n",
    "print(kate.vardas)\n",
    "kate.balsas()\n",
    "kate.judeti()\n",
    "\n",
    "print(suo.vardas)\n",
    "suo.balsas()\n",
    "suo.judeti()"
   ]
  }
 ],
 "metadata": {
  "kernelspec": {
   "display_name": "venv",
   "language": "python",
   "name": "python3"
  },
  "language_info": {
   "codemirror_mode": {
    "name": "ipython",
    "version": 3
   },
   "file_extension": ".py",
   "mimetype": "text/x-python",
   "name": "python",
   "nbconvert_exporter": "python",
   "pygments_lexer": "ipython3",
   "version": "3.11.3"
  },
  "orig_nbformat": 4
 },
 "nbformat": 4,
 "nbformat_minor": 2
}
