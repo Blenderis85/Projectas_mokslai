{
 "cells": [
  {
   "cell_type": "code",
   "execution_count": null,
   "metadata": {},
   "outputs": [],
   "source": [
    "import random\n",
    "\n",
    "a = random.randint(1, 10)\n",
    "b = random.randint(1, 10)\n",
    "answer = input(f\"What is {a} times {b}? \")\n",
    "answer = int(answer)\n",
    "if answer == a*b:\n",
    "    print(f\"Corect {a} times {b} is {answer}\")\n",
    "else:\n",
    "    print(f\"Incorect {a} times {b} is {a*b}\")"
   ]
  }
 ],
 "metadata": {
  "language_info": {
   "name": "python"
  },
  "orig_nbformat": 4
 },
 "nbformat": 4,
 "nbformat_minor": 2
}
