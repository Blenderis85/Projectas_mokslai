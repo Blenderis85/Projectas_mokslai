{
 "cells": [
  {
   "cell_type": "code",
   "execution_count": null,
   "metadata": {},
   "outputs": [],
   "source": [
    "## Pirma užduotis:\n",
    "\n",
    "## Parašykite klasę \"Baseinas\", kuri saugo informaciją apie vandens talpą ir dabartinį kiekį baseine.\n",
    "## Klasė turi turėti metodus vandens papildymui ir nuleidimui bei esamo vandens kiekio patikrinimui. Vandens kiekio keitimui panaudokite abstraktų metodą.\n",
    "## Sukurkite objektą ir kelis kartus iškvieskite klasės metodus.\n",
    "\n",
    "class Baseinas:\n",
    "\n",
    "  def __init__(self, talpa, dabartinis_kiekis):\n",
    "    self.__talpa = talpa\n",
    "    self.__dabartinis_kiekis = dabartinis_kiekis\n",
    "\n",
    "  def __keitimas(self, kiekis):\n",
    "    self.__dabartinis_kiekis += kiekis\n",
    "\n",
    "  def pilamas_vanduo(self, kiekis):\n",
    "    if self.__dabartinis_kiekis + kiekis <= self.__talpa:\n",
    "      self.__keitimas(kiekis)\n",
    "      print(f'Įpilta {kiekis} litrų vandens')\n",
    "    else:\n",
    "      print(f'Negalima įpilti {kiekis} litrų vandens, nes viršytų talpą')\n",
    "\n",
    "  def nuleisti_vandeni(self, kiekis):\n",
    "    if self.__dabartinis_kiekis - kiekis >= 0:\n",
    "      self.__keitimas(-kiekis)\n",
    "      print(f'Išpilta {kiekis} litrų vandens')\n",
    "    else:\n",
    "      print(\n",
    "        f'Negalima išpilti {kiekis} litrų vandens, nes dabar yra tik {self.__dabartinis_kiekis} litrų'\n",
    "      )\n",
    "\n",
    "  def get_talpa(self):\n",
    "    return self.__talpa\n",
    "  \n",
    "  def get_dabartinis_kiekis(self):\n",
    "    return self.__dabartinis_kiekis\n",
    "\n",
    "\n",
    "baseinas = Baseinas(1000, 300)\n",
    "print(f'Baseino talpa: {baseinas.get_talpa()} litrų, šiuo metu baseinas užpildytas: {baseinas.get_dabartinis_kiekis()} litrais')\n",
    "\n",
    "baseinas.nuleisti_vandeni(50)\n",
    "baseinas.pilamas_vanduo(480)\n",
    "print(baseinas.get_dabartinis_kiekis())"
   ]
  }
 ],
 "metadata": {
  "kernelspec": {
   "display_name": "venv",
   "language": "python",
   "name": "python3"
  },
  "language_info": {
   "name": "python",
   "version": "3.11.3"
  },
  "orig_nbformat": 4
 },
 "nbformat": 4,
 "nbformat_minor": 2
}
