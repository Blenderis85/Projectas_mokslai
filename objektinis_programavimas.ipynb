{
 "cells": [
  {
   "cell_type": "code",
   "execution_count": null,
   "metadata": {},
   "outputs": [],
   "source": [
    "## UZDUOTYS:\n",
    "## Pirma:\n",
    "## Sukurti naują klasę Darbuotojas, turinčią savybes vardas, pavardė, pareigos ir atlyginimas (su numatyta minimalia alga)\n",
    "## Sukurti naują objektą darbuotojas\n",
    "## Atspausdinkite darbuotojo pareigas ir atlyginimą.\n",
    "## Pakeisti darbuotojo atlyginimą.\n",
    "## Atspausdinkite pilną darbuotojo informaciją.\n",
    "\n",
    "class Darbuotojas:\n",
    "    def __init__(self, vardas, pavarde, pareigos, atlyginimas=800):\n",
    "        self.vardas = vardas\n",
    "        self.pavarde = pavarde\n",
    "        self.pareigos = pareigos\n",
    "        self.atlyginimas = atlyginimas\n",
    "\n",
    "    def __str__(self):\n",
    "        return f'{self.vardas} {self.pavarde}, pareigos: {self.pareigos}, atlyginimas: {self.atlyginimas}'\n",
    "\n",
    "darbuotojas = Darbuotojas('Andrius', 'Gedvilas', 'Programuotojas', 800)\n",
    "\n",
    "print('Darbuotojo pareigos:', darbuotojas.pareigos)\n",
    "print('Darbuotojo atlyginimas:', darbuotojas.atlyginimas)\n",
    "\n",
    "darbuotojas.atlyginimas = 1200\n",
    "\n",
    "print('Darbuotojas:', darbuotojas)"
   ]
  },
  {
   "cell_type": "code",
   "execution_count": 3,
   "metadata": {},
   "outputs": [
    {
     "name": "stdout",
     "output_type": "stream",
     "text": [
      "Gyvūnas vardu Margis yra 2 metų ir sveria 12 kg\n",
      "Gyvūnas vardu Margis yra 2 metų ir sveria 17 kg\n",
      "Gyvūnas vardu Margis yra 3 metų ir sveria 17 kg\n",
      "Gyvūnas vardu Margis yra 3 metų ir sveria 14 kg\n"
     ]
    }
   ],
   "source": [
    "## Antra užduotis:\n",
    "\n",
    "## Sukurkite klasę \"Gyvūnas\" su savybėmis: vardas, amžius ir svoris.\n",
    "## Sukurkite __str__ metodą patogiam informacijos apie gyvūną grąžinimui\n",
    "## Sukurkite metodus padidinti ir sumažinti svorį.\n",
    "## Sukurkite metodą gimtadienis, padidinantį amžių.\n",
    "## Sukurkite objektą su jūsų pasirinktomis reikšmėmis.\n",
    "## Atspausdinkite objektą.\n",
    "## Pakeiskite kelis kartus gyvūno svorį ir amžių naudojant sukurtus metodus ir po kiekvieno pakeitimo atspausdinkite.\n",
    "\n",
    "class Gyvunas:\n",
    "    def __init__(self, vardas, amzius, svoris):\n",
    "        self.vardas = vardas\n",
    "        self.amzius = amzius\n",
    "        self.svoris = svoris\n",
    "    \n",
    "    def padidinti_svori(self, kiek):\n",
    "        self.svoris += kiek\n",
    "    \n",
    "    def sumazinti_svori(self, kiek):\n",
    "        self.svoris -= kiek\n",
    "\n",
    "    def gimtadienis(self):\n",
    "        self.amzius += 1\n",
    "        \n",
    "    def __str__(self):\n",
    "        return f'Gyvūnas vardu {self.vardas} yra {self.amzius} metų ir sveria {self.svoris} kg'\n",
    "\n",
    "gyvunas = Gyvunas('Margis', 2, 12)\n",
    "print(gyvunas)\n",
    "\n",
    "gyvunas.padidinti_svori(5)\n",
    "print(gyvunas)\n",
    "\n",
    "gyvunas.gimtadienis()\n",
    "print(gyvunas)\n",
    "\n",
    "gyvunas.sumazinti_svori(3)\n",
    "print(gyvunas)"
   ]
  }
 ],
 "metadata": {
  "kernelspec": {
   "display_name": "venv",
   "language": "python",
   "name": "python3"
  },
  "language_info": {
   "codemirror_mode": {
    "name": "ipython",
    "version": 3
   },
   "file_extension": ".py",
   "mimetype": "text/x-python",
   "name": "python",
   "nbconvert_exporter": "python",
   "pygments_lexer": "ipython3",
   "version": "3.11.3"
  },
  "orig_nbformat": 4
 },
 "nbformat": 4,
 "nbformat_minor": 2
}
